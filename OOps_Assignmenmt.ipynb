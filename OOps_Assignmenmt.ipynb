{
  "nbformat": 4,
  "nbformat_minor": 0,
  "metadata": {
    "colab": {
      "provenance": [],
      "authorship_tag": "ABX9TyManx/D7gdXjBr6ID5HFRbM",
      "include_colab_link": true
    },
    "kernelspec": {
      "name": "python3",
      "display_name": "Python 3"
    },
    "language_info": {
      "name": "python"
    }
  },
  "cells": [
    {
      "cell_type": "markdown",
      "metadata": {
        "id": "view-in-github",
        "colab_type": "text"
      },
      "source": [
        "<a href=\"https://colab.research.google.com/github/SabaSheikh-1999/Python-Assignment1/blob/main/OOps_Assignmenmt.ipynb\" target=\"_parent\"><img src=\"https://colab.research.google.com/assets/colab-badge.svg\" alt=\"Open In Colab\"/></a>"
      ]
    },
    {
      "cell_type": "markdown",
      "source": [
        "**Question1.** What is Object-Oriented Programming (OOP)?\n",
        "\n",
        "Object-Oriented Programming (OOP) is a programming paradigm based on the concept of \"objects\", which are instances of classes. It organizes software design around data, or objects, rather than functions and logic.\n",
        "\n",
        "Here are the core concepts of OOP:\n",
        "\n",
        "Class: A blueprint for creating objects. It defines properties (attributes) and behaviors (methods).\n",
        "\n",
        "Example: class Car {}\n",
        "\n",
        "Object: An instance of a class. It has its own state and behavior.\n",
        "\n",
        "Example: myCar = new Car()\n",
        "\n",
        "Encapsulation: Bundling data (attributes) and methods that operate on that data within a single unit (class), and restricting access to some components.\n",
        "\n",
        "Helps protect object integrity.\n",
        "\n",
        "Inheritance: Allows a class (child/subclass) to inherit properties and methods from another class (parent/superclass).\n",
        "\n",
        "Promotes code reuse.\n",
        "\n",
        "Polymorphism: Allows objects of different classes to be treated as objects of a common superclass, mainly through method overriding or overloading.\n",
        "\n",
        "Enables flexibility and integration.\n",
        "\n",
        "Abstraction: Hides complex implementation details and shows only the essential features of the object.\n",
        "\n",
        "Simplifies interface design.\n",
        "\n",
        "\n",
        "**Question2.** What is a class in OOP?\n",
        "\n",
        "In Object-Oriented Programming (OOP), a class is a blueprint or template for creating objects. It defines the attributes (data) and methods (functions) that the objects created from the class will have.\n",
        "\n",
        "Think of a class like a recipe, and an object like the dish made from that recipe.\n",
        "\n",
        "🔧 Key Components of a Class:\n",
        "Attributes: Variables that hold the state of the object.\n",
        "\n",
        "Methods: Functions that define the behavior of the object.\n",
        "\n",
        "**Question3.** What is an object in OOP?\n",
        "\n",
        "In Object-Oriented Programming (OOP), an object is an instance of a class. It is a self-contained unit that combines data (attributes) and behavior (methods) defined by its class.\n",
        "\n",
        " Key Features of an Object:\n",
        "Identity: A unique name or reference.\n",
        "\n",
        "State: Defined by the values of its attributes.\n",
        "\n",
        "Behavior: Defined by the methods it can perform.\n",
        "\n",
        "**Question4.** What is the difference between abstraction and encapsulation?\n",
        "\n",
        "Great question! Abstraction and encapsulation are two fundamental concepts in Object-Oriented Programming (OOP), and while they are closely related, they serve different purposes:\n",
        "\n",
        " 1. Abstraction\n",
        "Definition: Hiding complex implementation details and showing only the essential features of an object.\n",
        "\n",
        "Goal: Simplify the interface and reduce complexity for the user.\n",
        "\n",
        "How: Achieved using abstract classes or interfaces.\n",
        "\n",
        "Real-world analogy: A car's steering wheel lets you drive without needing to know how the engine or brakes work.\n",
        "\n",
        " Focuses on what an object does, not how it does it.\n",
        "\n",
        " 2. Encapsulation\n",
        "Definition: Wrapping data (variables) and methods (functions) into a single unit (class) and restricting direct access to some of the object's components.\n",
        "\n",
        "Goal: Protect the internal state of an object and enforce controlled access.\n",
        "\n",
        "How: Achieved using access modifiers like private, protected, and public.\n",
        "\n",
        "Real-world analogy: A TV remote has buttons (interface), but you can't see or change the internal circuit.\n",
        "\n",
        " Focuses on how an object hides its data from unauthorized access.\n",
        "\n",
        "** Question5.** What are dunder methods in Python?\n",
        "\n",
        "Dunder methods in Python (short for \"double underscore\" methods, also called magic methods or special methods) are built-in methods with names that begin and end with double underscores like __init__, __str__, __len__, etc.\n",
        "\n",
        "These methods let you define or customize the behavior of your objects for common Python operations such as printing, arithmetic, comparison, and object construction.\n",
        "\n",
        "Common Dunder Methods:\n",
        "\n",
        "Dunder Method\tPurpose\tExample Use\n",
        "__init__\tConstructor, initializes an object\tCalled when you create an instance\n",
        "__str__\tString representation (str(obj))\tUsed in print()\n",
        "__repr__\tOfficial string representation (repr(obj))\tUsed in debugging/logging\n",
        "__len__\tCalled by len(obj)\tDefine custom length behavior\n",
        "__eq__\tEquality operator ==\tCompare two objects\n",
        "__add__\tAddition operator +\tDefine how + behaves on your object\n",
        "__getitem__\tIndexing obj[key]\tMake objects behave like containers.\n",
        "\n",
        "\n",
        "**Question6.**  Explain the concept of inheritance in OOP?\n",
        "\n",
        "Inheritance is a core concept in Object-Oriented Programming (OOP) that allows one class (called a child or subclass) to inherit the properties and behaviors (methods and attributes) of another class (called a parent or superclass).\n",
        "\n",
        " Why Use Inheritance?\n",
        "Code Reusability: Avoid rewriting common functionality.\n",
        "\n",
        "Hierarchy Modeling: Represent real-world relationships (e.g., Dog is a type of Animal).\n",
        "\n",
        "Extensibility: Build on existing code by adding or modifying features.\n",
        "\n",
        "**Question7.** What is polymorphism in OOP?\n",
        "\n",
        "Polymorphism in Object-Oriented Programming (OOP) means \"many forms.\" It allows objects of different classes to be treated as objects of a common superclass, typically through shared methods or interfaces.\n",
        "\n",
        " Purpose:\n",
        "To write flexible and reusable code.\n",
        "\n",
        "To enable one interface, many implementations.\n",
        "\n",
        "Types of Polymorphism:\n",
        "\n",
        "Type\tDescription\tExample\n",
        "Method Overriding\tSubclass provides a specific implementation of a method defined in its superclass\tDog.speak() overrides Animal.speak()\n",
        "Method Overloading (not in Python)\tSame method name with different parameters\tCommon in Java, not native to Python\n",
        "Duck Typing (Python-specific)\t\"If it walks like a duck and quacks like a duck...\" — behavior over type\tAny object with the right method can be used.\n",
        "\n",
        "**Question8.** How is encapsulation achieved in Python?\n",
        "\n",
        "Encapsulation in Python is achieved by restricting direct access to the internal state (attributes) of an object and controlling it through methods (getters and setters). This is a key part of data protection and abstraction in OOP.\n",
        "\n",
        "How Encapsulation is Done in Python:\n",
        "1. Using Underscores to Indicate Access Levels:\n",
        "\n",
        "public=\t    No underscore – accessible from anywhere.\n",
        "\n",
        "_protected=\tSingle underscore – by convention, should not be accessed outside the class.\n",
        "\n",
        "__private= Double underscore – name mangled to prevent external access.\n",
        "\n",
        "**Question9.** What is a constructor in Python?\n",
        "\n",
        "In Python, a constructor is a special method used to initialize a new object from a class. It’s called automatically when a new instance of a class is created.\n",
        "\n",
        "The Constructor Method in Python:\n",
        "\n",
        "Python uses the __init__ method as the constructor.\n",
        "\n",
        "Key Points:\n",
        "\n",
        "__init__ is not required in a class, but it's often used to set up object state.\n",
        "\n",
        "The first argument is always self, which refers to the instance being created.\n",
        "\n",
        "You can overload it using default values or *args/**kwargs.\n",
        "\n",
        "**Question10.** What are class and static methods in Python?\n",
        "\n",
        "In Python, class methods and static methods are two types of methods that are bound to the class rather than the instance. They are defined using decorators and serve different purposes.\n",
        "\n",
        "Class Method (@classmethod)\n",
        "\n",
        "Receives the class itself as the first argument (cls).\n",
        "\n",
        "Can access or modify class state shared across all instances.\n",
        "\n",
        "Defined using the @classmethod decorator.\n",
        "\n",
        "Static Method (@staticmethod)\n",
        "\n",
        "Doesn't take self or cls as the first argument.\n",
        "\n",
        "Acts like a regular function, just logically grouped with the class.\n",
        "\n",
        "Defined using the @staticmethod decorator.\n",
        "\n",
        "When to Use:\n",
        "\n",
        "Use @classmethod when you need to access or modify class-level data.\n",
        "\n",
        "Use @staticmethod for utility functions related to the class but independent of class or instance data.\n",
        "\n",
        "**Question11.** What is method overloading in Python?\n",
        "\n",
        "Method overloading in Python refers to the ability to define multiple methods with the same name but with different signatures (i.e., different number or types of parameters). However, unlike other languages like Java or C++, Python does not support traditional method overloading directly.\n",
        "\n",
        "In Python, if you define a method with the same name multiple times in the same class, the latest definition will overwrite the previous one. But you can achieve method overloading-like behavior using default arguments, variable-length arguments (*args, **kwargs), or by manually handling different cases in a single method.\n",
        "\n",
        "**Question12.** What is method overriding in OOP?\n",
        "\n",
        "Method overriding is a feature in Object-Oriented Programming (OOP) where a subclass provides its own implementation of a method that is already defined in its parent class. This allows the subclass to modify or extend the behavior of the inherited method.\n",
        "\n",
        "How Method Overriding Works:\n",
        "\n",
        "The method in the subclass has the same name, same parameters, and same signature as the method in the parent class.\n",
        "\n",
        "When the method is called on an instance of the subclass, the subclass's version of the method is executed, not the parent class's version.\n",
        "\n",
        "**Question13.** What is a property decorator in Python?\n",
        "\n",
        "In Python, the @property decorator is used to define a method that acts like an attribute, providing controlled access to an object's internal data. It allows you to define getter methods (and optionally setters) in a way that the user can access them like regular attributes, without explicitly calling methods.\n",
        "\n",
        "This is part of encapsulation in OOP, allowing you to restrict access to private attributes and provide custom logic when getting or setting their values.\n",
        "\n",
        "**Question14.** Why is polymorphism important in OOP?\n",
        "\n",
        "Polymorphism is one of the most important and powerful concepts in Object-Oriented Programming (OOP). It allows objects of different classes to be treated as objects of a common superclass, enabling a single interface to interact with multiple forms of objects. Here's why polymorphism is so important:\n",
        "\n",
        "\n",
        "1. Code Reusability:\n",
        "Polymorphism helps you reuse code efficiently by allowing you to interact with different objects in a uniform way. By defining a common interface (e.g., a method in a superclass), you can write code that works with any subclass without needing to know the specifics of the subclass.\n",
        "\n",
        "2. Flexibility and Maintainability:\n",
        "Polymorphism makes code more flexible and maintainable. You can change or add new classes without modifying the existing code. If new subclasses are introduced, the existing code can interact with them without needing to be changed.\n",
        "\n",
        "3. Simplifies Complex Systems:\n",
        "Polymorphism allows you to interact with a system in a simpler way by using a common interface for all objects, regardless of their specific class. It reduces the need for complex conditionals and type-checking.\n",
        "\n",
        "4. Supports Polymorphic Behavior:\n",
        "Polymorphism enables objects of different types to be treated the same way, even though their underlying implementations are different. This behavior is central to design patterns like Strategy, Factory, and Template Method, and it helps in abstracting the complexity of different types.\n",
        "\n",
        "5. Encourages Loose Coupling:\n",
        "Polymorphism encourages loose coupling, meaning classes don't need to know the specifics of the objects they interact with. As long as the object implements the expected interface or method, the calling code doesn't need to be aware of the actual class type. This decouples the code and makes it easier to maintain and extend.\n",
        "\n",
        "Summary of Why Polymorphism Is Important:\n",
        "\n",
        "Code Reusability: Write functions that can work with any subclass without modifying the function itself.\n",
        "\n",
        "Flexibility: Easily add new subclasses without changing existing code.\n",
        "\n",
        "Simplifies Systems: Treat different types of objects in a uniform way, reducing complexity.\n",
        "\n",
        "Supports Design Patterns: Enables polymorphic behavior that underpins common design patterns.\n",
        "\n",
        "Loose Coupling: Reduces dependencies between classes, making code easier to maintain and extend.\n",
        "\n",
        "Polymorphism is a key concept in OOP because it enables flexibility, scalability, and maintainability, especially in large codebases. It helps you write cleaner, more efficient, and extensible code.\n",
        "\n",
        "**Question15.** What is an abstract class in Python?\n",
        "\n",
        "An abstract class in Python is a class that cannot be instantiated directly and is meant to be subclassed. It is used as a blueprint for other classes. Abstract classes can contain abstract methods, which are methods that are declared but not implemented in the abstract class itself. Subclasses that inherit from an abstract class are required to implement these abstract methods.\n",
        "\n",
        "Key Points:\n",
        "\n",
        "Abstract classes can't be instantiated (i.e., you cannot create an object directly from them).\n",
        "\n",
        "They can have both abstract methods (which must be implemented by subclasses) and concrete methods (which have a full implementation).\n",
        "\n",
        "Abstract classes help define common interfaces and shared functionality for subclasses.\n",
        "\n",
        "**Question16.** What are the advantages of OOP?\n",
        "\n",
        "Object-Oriented Programming (OOP) has many advantages that make it a powerful and widely used paradigm in software development. By organizing code into objects and classes, OOP encourages better management of complex systems. Here's a breakdown of the main advantages of using OOP:\n",
        "\n",
        "1. Modularity and Code Reusability:\n",
        "\n",
        "Encapsulation: By grouping related data and methods into a single class (i.e., encapsulation), OOP allows the design of modular systems where you can create objects with specific behavior and attributes.\n",
        "\n",
        "Code Reusability: OOP promotes reusability by allowing classes to be reused in different programs or parts of a system. Once a class is written, it can be used as a blueprint for creating multiple instances, reducing duplication.\n",
        "\n",
        "Example:\n",
        "\n",
        "A class Car can be used in many different programs (e.g., for simulations, games, or inventory systems) without needing to rewrite the logic each time.\n",
        "\n",
        "2. Scalability and Maintainability:\n",
        "\n",
        "Inheritance: Inheritance allows new classes to be created based on existing classes, enabling code scalability and easy maintenance. You can extend the functionality of a class without modifying its existing code.\n",
        "\n",
        "Easy Updates: Since OOP promotes modular design, it is easier to update parts of the system without affecting the entire system. Changing a class's internal logic won't impact other unrelated parts of the code unless those parts rely on that specific class.\n",
        "\n",
        "Example:\n",
        "\n",
        "If you have a Vehicle superclass, you can create a subclass ElectricVehicle and modify only the parts related to electric cars, leaving the general Vehicle class intact.\n",
        "\n",
        "3. Data Security and Encapsulation:\n",
        "\n",
        "Encapsulation helps to protect data from unintended interference and misuse. By using private and protected access modifiers (or simply using naming conventions), you can control how data is accessed and modified.\n",
        "\n",
        "Getter/Setter Methods: These are used to control access to an object's attributes, ensuring that the attributes cannot be directly altered or accessed without applying specific rules.\n",
        "\n",
        "Example:\n",
        "\n",
        "In a banking system, account balances can be protected through getter and setter methods, ensuring that balance updates are done through specific, safe procedures (like checking if the balance is sufficient before withdrawing money).\n",
        "\n",
        "4. Inheritance and Extensibility:\n",
        "\n",
        "Inheritance allows new classes to inherit properties and methods from existing classes, promoting extensibility. You can create specialized subclasses with additional features while keeping the core functionality of the parent class.\n",
        "\n",
        "This allows systems to grow without the need for drastic changes or rewrites of the existing code.\n",
        "\n",
        "Example:\n",
        "\n",
        "In a game, you might have a generic Character class, and subclasses like Wizard, Warrior, and Archer can extend it, each adding unique abilities or attributes.\n",
        "\n",
        "5. Polymorphism:\n",
        "\n",
        "Polymorphism allows objects of different types to be treated as if they are objects of a common superclass. This simplifies code and makes it more flexible, as different objects can respond to the same method call in different ways.\n",
        "\n",
        "It encourages writing generic code that can work with any object that implements a particular interface or inherits from a base class.\n",
        "\n",
        "Example:\n",
        "\n",
        "You can write a method that accepts a Shape object, and it can be used with any subclass like Circle, Rectangle, or Triangle that overrides the draw() method, without needing to modify the method for each specific shape.\n",
        "\n",
        "6. Better Organization and Structure:\n",
        "\n",
        "Classes and objects provide a natural way to model real-world entities. OOP encourages thinking about a system in terms of entities and their relationships, making the software easier to conceptualize, design, and implement.\n",
        "\n",
        "This can be especially valuable for managing large and complex codebases.\n",
        "\n",
        "Example:\n",
        "\n",
        "In an e-commerce system, classes like Product, Order, and Customer can be defined to represent real-world entities in the software, making the system more intuitive and easier to manage.\n",
        "\n",
        "7. Improved Collaboration:\n",
        "\n",
        "OOP's modular approach makes it easier for multiple developers to work on the same project simultaneously. Since each class is independent and interacts with others through defined interfaces, team members can work on different classes without interfering with each other’s work.\n",
        "\n",
        "Version control systems like Git can more easily track changes and handle merging because classes and objects are self-contained.\n",
        "\n",
        "Example:\n",
        "\n",
        "One developer can work on the User class for authentication, while another works on the Order class for handling purchases in an e-commerce app, without their work colliding.\n",
        "\n",
        "8. Code Readability and Maintenance:\n",
        "\n",
        "OOP encourages the use of clear and well-defined interfaces for interacting with objects. Methods are usually named to describe their action, and classes represent a logical grouping of related functionality, which improves readability.\n",
        "\n",
        "Documentation of classes, methods, and attributes becomes easier, making it more understandable for future developers (or even yourself) to maintain and extend the code.\n",
        "\n",
        "Example:\n",
        "\n",
        "A class Inventory with methods like add_item(), remove_item(), and check_availability() provides a clear understanding of what the class does without needing to examine the implementation in detail.\n",
        "\n",
        "9. Supports Design Patterns:\n",
        "\n",
        "OOP is a natural fit for many well-established design patterns (e.g., Factory Pattern, Singleton Pattern, Observer Pattern, etc.), which are used to solve common design problems in an elegant and reusable way.\n",
        "\n",
        "Example:\n",
        "\n",
        "The Factory Pattern allows you to create objects in a way that isolates the creation logic from the rest of your application. This can be especially helpful when the object creation process is complex or involves multiple steps.\n",
        "\n",
        "10. Real-World Modeling:\n",
        "\n",
        "Since OOP is based on modeling real-world objects and behaviors, it can be easier to understand and map to real-world concepts. This natural mapping often makes it simpler to translate business requirements into software designs.\n",
        "\n",
        "Example:\n",
        "\n",
        "In an inventory management system, you can model products as objects with attributes like name, price, and quantity and methods like update_quantity() and apply_discount(). This makes it easy to represent the real-world behavior of managing products.\n",
        "\n",
        "Summary of Advantages of OOP:\n",
        "\n",
        "Modularity: Code is organized into independent objects, making it easier to maintain.\n",
        "\n",
        "Reusability: Classes and objects can be reused in multiple contexts.\n",
        "\n",
        "Extensibility: New features can be added easily through inheritance and polymorphism.\n",
        "\n",
        "Encapsulation: Controls access to data, ensuring that it's only modified in safe and controlled ways.\n",
        "\n",
        "Scalability: Supports the growth of large applications by providing structures for complex systems.\n",
        "\n",
        "Code Readability: Clearer, more organized code that is easier to understand and maintain.\n",
        "\n",
        "Design Patterns: Encourages use of established patterns that provide efficient solutions to common problems.\n",
        "\n",
        "These advantages make OOP a powerful methodology for both small and large-scale software projects, contributing to cleaner, more maintainable, and flexible codebases.\n",
        "\n",
        "**Question17.** What is the difference between a class variable and an instance variable?\n",
        "\n",
        "In Python, class variables and instance variables are both used to store data associated with objects and classes, but they differ in terms of where they are stored and how they behave. Let's break down the key differences:\n",
        "\n",
        "1. Definition and Scope\n",
        "\n",
        "Instance Variables:\n",
        "\n",
        "Instance variables are specific to each instance (object) of a class.\n",
        "\n",
        "They are defined inside methods (usually in the __init__() constructor) using the self keyword.\n",
        "\n",
        "Every object gets its own copy of the instance variables.\n",
        "\n",
        "Class Variables:\n",
        "\n",
        "Class variables are shared among all instances of a class.\n",
        "\n",
        "They are defined inside the class but outside any methods.\n",
        "\n",
        "All objects of the class refer to the same class variable.\n",
        "\n",
        "2. Memory and Sharing\n",
        "\n",
        "Instance Variables:\n",
        "\n",
        "Each instance of the class gets a unique copy of the instance variable, meaning they don't interfere with each other.\n",
        "\n",
        "Changes made to an instance variable in one object do not affect other objects.\n",
        "\n",
        "Class Variables:\n",
        "\n",
        "Class variables are shared across all instances of the class.\n",
        "\n",
        "If one object changes a class variable, the change will be reflected across all objects that refer to the class variable.\n",
        "\n",
        "3. Access\n",
        "\n",
        "Instance Variables:\n",
        "\n",
        "You access instance variables via the object, e.g., object.variable.\n",
        "\n",
        "Instance variables can have different values for each object.\n",
        "\n",
        "Class Variables:\n",
        "\n",
        "Class variables are accessed via the class itself or an object, e.g., ClassName.variable or object.variable.\n",
        "\n",
        "All objects of the class will refer to the same value for the class variable, unless modified at the instance level.\n",
        "\n",
        "4. Use Case\n",
        "\n",
        "Instance Variables:\n",
        "\n",
        "Instance variables are typically used to store data that is unique to each object of the class. For example, each Person object might have different values for name or age.\n",
        "\n",
        "Class Variables:\n",
        "\n",
        "Class variables are used to store data that is common to all instances of the class. For example, if you want to keep track of how many Person objects have been created, you might use a class variable to store the count.\n",
        "\n",
        "**Question18.**  What is multiple inheritance in Python?\n",
        "\n",
        "Multiple inheritance in Python refers to a feature where a class can inherit from more than one class, acquiring attributes and methods from all the parent classes. This is a powerful feature of Python's object-oriented programming (OOP) paradigm, as it allows a class to combine functionality from multiple base classes.\n",
        "\n",
        "How Multiple Inheritance Works:\n",
        "\n",
        "In multiple inheritance, a derived class inherits from more than one base class. This allows the child class to have the properties and behaviors (methods) of both parent classes.\n",
        "\n",
        "Explanation:\n",
        "\n",
        "Child class inherits from both Parent1 and Parent2.\n",
        "\n",
        "The Child class has access to methods from both parent classes (method1 from Parent1 and method2 from Parent2), as well as its own method (method3).\n",
        "\n",
        "Advantages of Multiple Inheritance:\n",
        "\n",
        "1. Code Reusability: You can reuse code from multiple classes without needing to rewrite functionality.\n",
        "\n",
        "2. Flexibility: It provides flexibility to a class by allowing it to inherit features from multiple sources.\n",
        "\n",
        "3. Separation of Concerns: Allows functionality to be split across multiple classes based on concern (e.g., a class might inherit one class for data handling and another for UI functionality).\n",
        "\n",
        "Example of Multiple Inheritance (Real-World Scenario):\n",
        "\n",
        "Imagine you're creating a class for a Smartphone, which has both a Camera and a Phone functionality. You can inherit from both Camera and Phone classes.\n",
        "\n",
        "\n",
        "Potential Issues with Multiple Inheritance:\n",
        "\n",
        "Diamond Problem:\n",
        "\n",
        "The diamond problem occurs when a class inherits from two classes that have a common base class, and there’s ambiguity in the method resolution order (MRO). This can lead to method conflicts or unintended behavior.\n",
        "\n",
        "Using super() in Multiple Inheritance:\n",
        "\n",
        "The super() function helps you explicitly call a method from the next class in the Method Resolution Order (MRO). This can help avoid ambiguity and ensure the proper method is executed.\n",
        "\n",
        "Summary of Multiple Inheritance:\n",
        "\n",
        "Multiple inheritance allows a class to inherit from multiple parent classes.\n",
        "\n",
        "Code Reusability: It allows combining functionality from different base classes into one class.\n",
        "\n",
        "Flexibility: You can inherit attributes and behaviors from multiple sources.\n",
        "\n",
        "Challenges: The diamond problem and potential method conflicts can make it tricky to manage. The super() function and Method Resolution Order (MRO) help resolve these issues.\n",
        "\n",
        "Multiple inheritance is a powerful feature in Python, but it should be used carefully to avoid issues with ambiguity or unintended behavior.\n",
        "\n",
        "**Question 19.** Explain the purpose of ‘’__str__’ and ‘__repr__’ ‘ methods in PythonH?\n",
        "\n",
        "In Python, the __str__ and __repr__ methods are special dunder methods (short for double underscore methods) used to define how objects of a class should be represented as strings. They serve different purposes but are often implemented together.\n",
        "\n",
        "🔹 __str__ Method\n",
        "\n",
        "Purpose: Defines the \"informal\" or nicely printable string representation of an object.\n",
        "\n",
        "Used by: The print() function and str().\n",
        "\n",
        "🔸 __repr__ Method\n",
        "\n",
        "Purpose: Defines the \"official\" or developer-friendly string representation of an object.\n",
        "\n",
        "Used by: The repr() function and when an object is inspected in the interpreter (e.g. typing the object in the console).\n",
        "\n",
        "Ideally, __repr__ should return a string that, when passed to eval(), recreates the object (if possible). This is useful for debugging.\n",
        "\n",
        "If Both Are Defined\n",
        "\n",
        "__str__ is used when printing the object.\n",
        "\n",
        "__repr__ is used when inspecting it (like in an interactive shell or debugging).\n",
        "\n",
        "**Question20.** What is the significance of the ‘super()’ function in Python?\n",
        "\n",
        "The super() function in Python is used to call methods from a parent or superclass in a child class. It is especially significant in inheritance and multiple inheritance, where it helps ensure that parent classes are properly initialized or their methods are correctly called without explicitly naming them.\n",
        "\n",
        "🔹 Primary Purpose of super():\n",
        "\n",
        "To access methods or constructors of a parent class from a child class.\n",
        "\n",
        "To avoid hardcoding the parent class name, making the code more maintainable and cooperative (especially in complex hierarchies or multiple inheritance).\n",
        "\n",
        "**Question 21.** H What is the significance of the __del__ method in Python?\n",
        "\n",
        "The __del__ method in Python is a special (dunder) method known as the destructor. It is called automatically when an object is about to be destroyed, typically when there are no more references to the object.\n",
        "\n",
        "Purpose of __del__:\n",
        "\n",
        "To define cleanup behavior when an object is deleted or garbage-collected.\n",
        "\n",
        "Commonly used to release external resources like:\n",
        "\n",
        "Open files\n",
        "\n",
        "Network connections\n",
        "\n",
        "Database handles\n",
        "\n",
        "Temporary files\n",
        "\n",
        " Important Notes:\n",
        "\n",
        "Unreliable Timing:\n",
        "\n",
        "__del__ is not guaranteed to be called immediately after an object goes out of scope.\n",
        "\n",
        "It’s called when (and if) the object is garbage collected, which is not deterministic in all Python implementations (especially in environments like Jupyter or with circular references).\n",
        "\n",
        "Can Cause Problems:\n",
        "\n",
        "If an exception is raised in __del__, it is silently ignored.\n",
        "\n",
        "If __del__ refers to global variables that have already been deleted (e.g., at interpreter shutdown), it can result in errors.\n",
        "\n",
        "Use Alternatives for Cleanup:\n",
        "\n",
        "Preferred: Use a with statement and context managers (__enter__ / __exit__) instead of relying on __del__.\n",
        "\n",
        "**Question 22.** What is the difference between @staticmethod and @classmethod in Python?\n",
        "\n",
        "In Python, @staticmethod and @classmethod are both decorators used to define methods that are not standard instance methods, but they serve different purposes and behave differently in how they receive and interact with class or instance data.\n",
        "\n",
        "🔹 @staticmethod\n",
        "\n",
        "A staticmethod is a method that doesn't take self or cls as the first argument.\n",
        "\n",
        "It behaves like a regular function, but it belongs to the class’s namespace.\n",
        "\n",
        "It cannot access or modify class or instance attributes.\n",
        "\n",
        "🔸 @classmethod\n",
        "\n",
        "A classmethod receives the class (cls) as the first argument, instead of an instance (self).\n",
        "\n",
        "It can access and modify class variables and other class methods.\n",
        "\n",
        "Commonly used for factory methods that create class instances in different ways.\n",
        "\n",
        "**Question 23.** How does polymorphism work in Python with inheritance?\n",
        "\n",
        "Polymorphism in Python allows objects of different classes to be treated as objects of a common superclass, particularly when these classes implement the same methods. It means \"many forms\", and it's a core concept in object-oriented programming (OOP).\n",
        "\n",
        "In Python, polymorphism is typically achieved using inheritance and method overriding.\n",
        "\n",
        " Key Concepts:\n",
        "\n",
        "1. Inheritance allows child classes to inherit methods and attributes from a parent class.\n",
        "\n",
        "2. Method Overriding lets a subclass provide a specific implementation of a method already defined in its superclass.\n",
        "\n",
        "3. Polymorphism allows using a single interface (like a method name) to operate on objects of different classes.\n",
        "\n",
        "**Question 24.** What is method chaining in Python OOP?\n",
        "\n",
        "Method chaining is a programming technique where multiple methods are called on the same object in a single line, one after the other, by returning self from each method.\n",
        "\n",
        "This pattern is common in object-oriented design, especially for fluent interfaces, and it improves code readability and conciseness.\n",
        "\n",
        "How Method Chaining Works:\n",
        "\n",
        "Each method modifies the object and returns self.\n",
        "\n",
        "This allows the next method to be called on the same object.\n",
        "\n",
        "Method chaining = calling multiple methods sequentially on the same object in one line.\n",
        "\n",
        "It’s implemented by returning self from methods.\n",
        "\n",
        "Common in builder patterns, configuration objects, and fluent APIs.\n",
        "\n",
        "**Question 25.** What is the purpose of the __call__ method in Python?\n",
        "\n",
        "The __call__ method in Python allows an instance of a class to be called like a function. If a class defines a __call__ method, then its objects can be invoked using parentheses (), just like you would call a function.\n",
        "\n",
        "Purpose:\n",
        "\n",
        "It makes objects behave like functions.\n",
        "\n",
        "Enables function-like syntax for stateful or configurable objects.\n",
        "\n",
        "Useful in scenarios like decorators, function wrappers, callback systems, or when designing APIs with a fluent interface.\n",
        "\n",
        "\n",
        "\n",
        "\n",
        "\n",
        "                             ** Practical Questions**\n",
        "\n",
        "\n",
        "Question1.  Create a parent class Animal with a method speak() that prints a generic message. Create a child class Dog\n",
        "that overrides the speak() method to print \"Bark!\"."
      ],
      "metadata": {
        "id": "MAf5m7i5FL2P"
      }
    },
    {
      "cell_type": "code",
      "source": [
        "# Parent class\n",
        "class Animal:\n",
        "    def speak(self):\n",
        "        print(\"The animal makes a sound.\")\n",
        "\n",
        "# Child class\n",
        "class Dog(Animal):\n",
        "    def speak(self):\n",
        "        print(\"Bark!\")\n",
        "\n",
        "# Create instances\n",
        "generic_animal = Animal()\n",
        "dog = Dog()\n",
        "\n",
        "# Call speak() on both\n",
        "generic_animal.speak()\n",
        "dog.speak()\n"
      ],
      "metadata": {
        "colab": {
          "base_uri": "https://localhost:8080/"
        },
        "id": "2yxsOgT-tUCt",
        "outputId": "ef199777-d1cd-40f5-f68d-0e4af1a7394f"
      },
      "execution_count": 1,
      "outputs": [
        {
          "output_type": "stream",
          "name": "stdout",
          "text": [
            "The animal makes a sound.\n",
            "Bark!\n"
          ]
        }
      ]
    },
    {
      "cell_type": "markdown",
      "source": [
        "**Question 2.** Write a program to create an abstract class Shape with a method area(). Derive classes Circle and Rectangle\n",
        "from it and implement the area() method in both."
      ],
      "metadata": {
        "id": "ylw89LC6teL_"
      }
    },
    {
      "cell_type": "code",
      "source": [
        "from abc import ABC, abstractmethod\n",
        "import math\n",
        "\n",
        "# Abstract base class\n",
        "class Shape(ABC):\n",
        "    @abstractmethod\n",
        "    def area(self):\n",
        "        pass\n",
        "\n",
        "# Derived class: Circle\n",
        "class Circle(Shape):\n",
        "    def __init__(self, radius):\n",
        "        self.radius = radius\n",
        "\n",
        "    def area(self):\n",
        "        return math.pi * self.radius ** 2\n",
        "\n",
        "# Derived class: Rectangle\n",
        "class Rectangle(Shape):\n",
        "    def __init__(self, width, height):\n",
        "        self.width = width\n",
        "        self.height = height\n",
        "\n",
        "    def area(self):\n",
        "        return self.width * self.height\n",
        "\n",
        "# Create instances and print their areas\n",
        "circle = Circle(5)\n",
        "rectangle = Rectangle(4, 6)\n",
        "\n",
        "print(f\"Area of Circle: {circle.area():.2f}\")\n",
        "print(f\"Area of Rectangle: {rectangle.area()}\")\n"
      ],
      "metadata": {
        "colab": {
          "base_uri": "https://localhost:8080/"
        },
        "id": "yiUxhNBftaKq",
        "outputId": "4a00ec31-3f3f-41e4-bf2e-3c368cc85c91"
      },
      "execution_count": 2,
      "outputs": [
        {
          "output_type": "stream",
          "name": "stdout",
          "text": [
            "Area of Circle: 78.54\n",
            "Area of Rectangle: 24\n"
          ]
        }
      ]
    },
    {
      "cell_type": "markdown",
      "source": [
        "Question3.  Implement a multi-level inheritance scenario where a class Vehicle has an attribute type. Derive a class Car\n",
        "and further derive a class ElectricCar that adds a battery attribute."
      ],
      "metadata": {
        "id": "Ktkp2nF1uSul"
      }
    },
    {
      "cell_type": "code",
      "source": [
        "# Base class\n",
        "class Vehicle:\n",
        "    def __init__(self, vehicle_type):\n",
        "        self.type = vehicle_type\n",
        "\n",
        "    def show_type(self):\n",
        "        print(f\"Vehicle type: {self.type}\")\n",
        "\n",
        "# First-level derived class\n",
        "class Car(Vehicle):\n",
        "    def __init__(self, vehicle_type, brand):\n",
        "        super().__init__(vehicle_type)\n",
        "        self.brand = brand\n",
        "\n",
        "    def show_brand(self):\n",
        "        print(f\"Car brand: {self.brand}\")\n",
        "\n",
        "# Second-level derived class\n",
        "class ElectricCar(Car):\n",
        "    def __init__(self, vehicle_type, brand, battery_capacity):\n",
        "        super().__init__(vehicle_type, brand)\n",
        "        self.battery = battery_capacity\n",
        "\n",
        "    def show_battery(self):\n",
        "        print(f\"Battery capacity: {self.battery} kWh\")\n",
        "\n",
        "# Create an instance of ElectricCar\n",
        "my_electric_car = ElectricCar(\"Electric\", \"Tesla\", 75)\n",
        "\n",
        "# Display all attributes\n",
        "my_electric_car.show_type()\n",
        "my_electric_car.show_brand()\n",
        "my_electric_car.show_battery()\n"
      ],
      "metadata": {
        "colab": {
          "base_uri": "https://localhost:8080/"
        },
        "id": "BSImiez0uRKb",
        "outputId": "67cb7ffe-3d38-4845-d702-02a6fb9d5221"
      },
      "execution_count": 3,
      "outputs": [
        {
          "output_type": "stream",
          "name": "stdout",
          "text": [
            "Vehicle type: Electric\n",
            "Car brand: Tesla\n",
            "Battery capacity: 75 kWh\n"
          ]
        }
      ]
    },
    {
      "cell_type": "markdown",
      "source": [
        "**Question4.** Demonstrate polymorphism by creating a base class Bird with a method fly(). Create two derived classes\n",
        "Sparrow and Penguin that override the fly() method.\n"
      ],
      "metadata": {
        "id": "Z_HTEMiouelR"
      }
    },
    {
      "cell_type": "code",
      "source": [
        "# Base class\n",
        "class Bird:\n",
        "    def fly(self):\n",
        "        print(\"Some birds can fly.\")\n",
        "\n",
        "# Derived class\n",
        "class Sparrow(Bird):\n",
        "    def fly(self):\n",
        "        print(\"Sparrow flies high in the sky.\")\n",
        "\n",
        "# Derived class\n",
        "class Penguin(Bird):\n",
        "    def fly(self):\n",
        "        print(\"Penguins can't fly, they swim.\")\n",
        "\n",
        "# Polymorphic behavior\n",
        "def bird_flight(bird):\n",
        "    bird.fly()  # Calls the appropriate method based on object type\n",
        "\n",
        "# Create instances\n",
        "sparrow = Sparrow()\n",
        "penguin = Penguin()\n",
        "\n",
        "# Use polymorphism\n",
        "bird_flight(sparrow)\n",
        "bird_flight(penguin)\n"
      ],
      "metadata": {
        "colab": {
          "base_uri": "https://localhost:8080/"
        },
        "id": "zLXsN2wsudoZ",
        "outputId": "ccfe9cb7-55d7-41db-8125-2ee9fbc4fb29"
      },
      "execution_count": 4,
      "outputs": [
        {
          "output_type": "stream",
          "name": "stdout",
          "text": [
            "Sparrow flies high in the sky.\n",
            "Penguins can't fly, they swim.\n"
          ]
        }
      ]
    },
    {
      "cell_type": "markdown",
      "source": [
        "**Question5.** Write a program to demonstrate encapsulation by creating a class BankAccount with private attributes\n",
        "balance and methods to deposit, withdraw, and check balance."
      ],
      "metadata": {
        "id": "jQYYT4OCwPZ0"
      }
    },
    {
      "cell_type": "code",
      "source": [
        "class BankAccount:\n",
        "    def __init__(self, initial_balance=0):\n",
        "        self.__balance = initial_balance  # Private attribute\n",
        "\n",
        "    def deposit(self, amount):\n",
        "        if amount > 0:\n",
        "            self.__balance += amount\n",
        "            print(f\"Deposited ${amount}.\")\n",
        "        else:\n",
        "            print(\"Deposit amount must be positive.\")\n",
        "\n",
        "    def withdraw(self, amount):\n",
        "        if 0 < amount <= self.__balance:\n",
        "            self.__balance -= amount\n",
        "            print(f\"Withdrew ${amount}.\")\n",
        "        else:\n",
        "            print(\"Insufficient funds or invalid amount.\")\n",
        "\n",
        "    def check_balance(self):\n",
        "        print(f\"Current balance: ${self.__balance}\")\n",
        "\n",
        "# Create a bank account\n",
        "account = BankAccount(100)\n",
        "\n",
        "# Test the encapsulated methods\n",
        "account.check_balance()\n",
        "account.deposit(50)\n",
        "account.withdraw(30)\n",
        "account.check_balance()\n",
        "\n"
      ],
      "metadata": {
        "colab": {
          "base_uri": "https://localhost:8080/"
        },
        "id": "pOAKg57GupNm",
        "outputId": "f65a8a07-2baa-4552-f45c-7d399d2b57ed"
      },
      "execution_count": 5,
      "outputs": [
        {
          "output_type": "stream",
          "name": "stdout",
          "text": [
            "Current balance: $100\n",
            "Deposited $50.\n",
            "Withdrew $30.\n",
            "Current balance: $120\n"
          ]
        }
      ]
    },
    {
      "cell_type": "markdown",
      "source": [
        "**Question6.**  Demonstrate runtime polymorphism using a method play() in a base class Instrument. Derive classes Guitar\n",
        "and Piano that implement their own version of play()."
      ],
      "metadata": {
        "id": "ymEWG_yiwlhP"
      }
    },
    {
      "cell_type": "code",
      "source": [
        "# Base class\n",
        "class Instrument:\n",
        "    def play(self):\n",
        "        print(\"The instrument is playing a sound.\")\n",
        "\n",
        "# Derived class\n",
        "class Guitar(Instrument):\n",
        "    def play(self):\n",
        "        print(\"Strumming the guitar.\")\n",
        "\n",
        "# Derived class\n",
        "class Piano(Instrument):\n",
        "    def play(self):\n",
        "        print(\"Playing the piano keys.\")\n",
        "\n",
        "# Polymorphic function\n",
        "def perform(instrument):\n",
        "    instrument.play()  # Calls the correct method based on object type at runtime\n",
        "\n",
        "# Create instances\n",
        "guitar = Guitar()\n",
        "piano = Piano()\n",
        "\n",
        "# Runtime polymorphism in action\n",
        "perform(guitar)\n",
        "perform(piano)\n"
      ],
      "metadata": {
        "colab": {
          "base_uri": "https://localhost:8080/"
        },
        "id": "3ALCtR4ZwkVr",
        "outputId": "ca4bb11f-f92b-4f5c-c4d7-2032b6b7de40"
      },
      "execution_count": 6,
      "outputs": [
        {
          "output_type": "stream",
          "name": "stdout",
          "text": [
            "Strumming the guitar.\n",
            "Playing the piano keys.\n"
          ]
        }
      ]
    },
    {
      "cell_type": "markdown",
      "source": [
        "**Question7.**  Create a class MathOperations with a class method add_numbers() to add two numbers and a static\n",
        "method subtract_numbers() to subtract two numbers."
      ],
      "metadata": {
        "id": "wTBeMxJswzyC"
      }
    },
    {
      "cell_type": "code",
      "source": [
        "class MathOperations:\n",
        "    @classmethod\n",
        "    def add_numbers(cls, a, b):\n",
        "        return a + b\n",
        "\n",
        "    @staticmethod\n",
        "    def subtract_numbers(a, b):\n",
        "        return a - b\n",
        "\n",
        "# Using the class method\n",
        "sum_result = MathOperations.add_numbers(10, 5)\n",
        "print(f\"Sum: {sum_result}\")  # Output: Sum: 15\n",
        "\n",
        "# Using the static method\n",
        "difference = MathOperations.subtract_numbers(10, 5)\n",
        "print(f\"Difference: {difference}\")\n"
      ],
      "metadata": {
        "colab": {
          "base_uri": "https://localhost:8080/"
        },
        "id": "CAjxPvVswywy",
        "outputId": "2cd155c2-cb4b-437d-e2e0-3dc20d320a3c"
      },
      "execution_count": 7,
      "outputs": [
        {
          "output_type": "stream",
          "name": "stdout",
          "text": [
            "Sum: 15\n",
            "Difference: 5\n"
          ]
        }
      ]
    },
    {
      "cell_type": "markdown",
      "source": [
        "**Question 8.** Implement a class Person with a class method to count the total number of persons created."
      ],
      "metadata": {
        "id": "wAPibR3Aw-_i"
      }
    },
    {
      "cell_type": "code",
      "source": [
        "class Person:\n",
        "    count = 0  # Class variable to track number of persons\n",
        "\n",
        "    def __init__(self, name):\n",
        "        self.name = name\n",
        "        Person.count += 1\n",
        "\n",
        "    @classmethod\n",
        "    def total_persons(cls):\n",
        "        return cls.count\n",
        "\n",
        "# Creating person instances\n",
        "p1 = Person(\"Alice\")\n",
        "p2 = Person(\"Bob\")\n",
        "p3 = Person(\"Charlie\")\n",
        "\n",
        "# Calling the class method to get total count\n",
        "print(f\"Total persons created: {Person.total_persons()}\")\n"
      ],
      "metadata": {
        "colab": {
          "base_uri": "https://localhost:8080/"
        },
        "id": "eh51U8sjw-BR",
        "outputId": "9b5259d1-890f-4bf0-a4b3-83cec0578705"
      },
      "execution_count": 8,
      "outputs": [
        {
          "output_type": "stream",
          "name": "stdout",
          "text": [
            "Total persons created: 3\n"
          ]
        }
      ]
    },
    {
      "cell_type": "markdown",
      "source": [
        "**Question9.**  Write a class Fraction with attributes numerator and denominator. Override the str method to display the\n",
        "fraction as \"numerator/denominator\"."
      ],
      "metadata": {
        "id": "eAsLO0jK4-rd"
      }
    },
    {
      "cell_type": "code",
      "source": [
        "class Fraction:\n",
        "    def __init__(self, numerator, denominator):\n",
        "        self.numerator = numerator\n",
        "        self.denominator = denominator\n",
        "\n",
        "    def __str__(self):\n",
        "        return f\"{self.numerator}/{self.denominator}\"\n",
        "\n",
        "# Create a Fraction instance\n",
        "f1 = Fraction(3, 4)\n",
        "\n",
        "# Print the fraction\n",
        "print(f1)\n"
      ],
      "metadata": {
        "colab": {
          "base_uri": "https://localhost:8080/"
        },
        "id": "dhHNxOA5xKty",
        "outputId": "bae1d4b2-63a3-48c8-8872-2f45ef7d080e"
      },
      "execution_count": 9,
      "outputs": [
        {
          "output_type": "stream",
          "name": "stdout",
          "text": [
            "3/4\n"
          ]
        }
      ]
    },
    {
      "cell_type": "markdown",
      "source": [
        "**Question 10.** Demonstrate operator overloading by creating a class Vector and overriding the add method to add two\n",
        "vectors."
      ],
      "metadata": {
        "id": "pivvgACZ5GDR"
      }
    },
    {
      "cell_type": "code",
      "source": [
        "class Vector:\n",
        "    def __init__(self, x, y):\n",
        "        self.x = x\n",
        "        self.y = y\n",
        "\n",
        "    # Overloading the '+' operator using __add__\n",
        "    def __add__(self, other):\n",
        "        if isinstance(other, Vector):\n",
        "            return Vector(self.x + other.x, self.y + other.y)\n",
        "        return NotImplemented\n",
        "\n",
        "    def __str__(self):\n",
        "        return f\"({self.x}, {self.y})\"\n",
        "\n",
        "# Create two Vector instances\n",
        "v1 = Vector(2, 3)\n",
        "v2 = Vector(4, 5)\n",
        "\n",
        "# Add the two vectors using the overloaded '+' operator\n",
        "v3 = v1 + v2\n",
        "\n",
        "# Print the result\n",
        "print(f\"Result of adding vectors: {v3}\")\n"
      ],
      "metadata": {
        "colab": {
          "base_uri": "https://localhost:8080/"
        },
        "id": "xoDYmGS15EgC",
        "outputId": "bf36bea1-1619-4915-b444-9d3d699414f0"
      },
      "execution_count": 10,
      "outputs": [
        {
          "output_type": "stream",
          "name": "stdout",
          "text": [
            "Result of adding vectors: (6, 8)\n"
          ]
        }
      ]
    },
    {
      "cell_type": "markdown",
      "source": [
        "**Question 11.** Create a class Person with attributes name and age. Add a method greet() that prints \"Hello, my name is\n",
        "{name} and I am {age} years old.\""
      ],
      "metadata": {
        "id": "zVDfYPzp5Psv"
      }
    },
    {
      "cell_type": "code",
      "source": [
        "class Person:\n",
        "    def __init__(self, name, age):\n",
        "        self.name = name\n",
        "        self.age = age\n",
        "\n",
        "    def greet(self):\n",
        "        print(f\"Hello, my name is {self.name} and I am {self.age} years old.\")\n",
        "\n",
        "# Create a Person instance\n",
        "person1 = Person(\"Alice\", 30)\n",
        "\n",
        "# Call the greet() method\n",
        "person1.greet()\n"
      ],
      "metadata": {
        "colab": {
          "base_uri": "https://localhost:8080/"
        },
        "id": "3cy_TnUz5OsK",
        "outputId": "7b1ca73b-2a45-4084-ec6d-e8a77ae353ba"
      },
      "execution_count": 11,
      "outputs": [
        {
          "output_type": "stream",
          "name": "stdout",
          "text": [
            "Hello, my name is Alice and I am 30 years old.\n"
          ]
        }
      ]
    },
    {
      "cell_type": "markdown",
      "source": [
        "**Question 12. ** Implement a class Student with attributes name and grades. Create a method average_grade() to compute\n",
        "the average of the grades."
      ],
      "metadata": {
        "id": "jJe03A0a5aZj"
      }
    },
    {
      "cell_type": "code",
      "source": [
        "class Student:\n",
        "    def __init__(self, name, grades):\n",
        "        self.name = name\n",
        "        self.grades = grades\n",
        "\n",
        "    def average_grade(self):\n",
        "        return sum(self.grades) / len(self.grades) if self.grades else 0\n",
        "\n",
        "# Create a Student instance\n",
        "student1 = Student(\"John\", [85, 90, 78, 92, 88])\n",
        "\n",
        "# Call the average_grade() method\n",
        "average = student1.average_grade()\n",
        "print(f\"{student1.name}'s average grade is: {average:.2f}\")\n"
      ],
      "metadata": {
        "colab": {
          "base_uri": "https://localhost:8080/"
        },
        "id": "MqvcxYqs5Zre",
        "outputId": "df1d2713-9ccb-4d7b-963b-a3e68f1f3155"
      },
      "execution_count": 12,
      "outputs": [
        {
          "output_type": "stream",
          "name": "stdout",
          "text": [
            "John's average grade is: 86.60\n"
          ]
        }
      ]
    },
    {
      "cell_type": "markdown",
      "source": [
        "**Question 13.** Create a class Rectangle with methods set_dimensions() to set the dimensions and area() to calculate the\n",
        "area."
      ],
      "metadata": {
        "id": "0grod3lV5lSD"
      }
    },
    {
      "cell_type": "code",
      "source": [
        "class Rectangle:\n",
        "    def __init__(self):\n",
        "        self.length = 0\n",
        "        self.width = 0\n",
        "\n",
        "    def set_dimensions(self, length, width):\n",
        "        self.length = length\n",
        "        self.width = width\n",
        "\n",
        "    def area(self):\n",
        "        return self.length * self.width\n",
        "\n",
        "# Create a Rectangle instance\n",
        "rectangle1 = Rectangle()\n",
        "\n",
        "# Set dimensions of the rectangle\n",
        "rectangle1.set_dimensions(5, 3)\n",
        "\n",
        "# Calculate and print the area\n",
        "print(f\"The area of the rectangle is: {rectangle1.area()}\")\n"
      ],
      "metadata": {
        "colab": {
          "base_uri": "https://localhost:8080/"
        },
        "id": "g4VT1grh5kFT",
        "outputId": "25c009e8-0937-4e5d-acd9-8009ec684ba7"
      },
      "execution_count": 13,
      "outputs": [
        {
          "output_type": "stream",
          "name": "stdout",
          "text": [
            "The area of the rectangle is: 15\n"
          ]
        }
      ]
    },
    {
      "cell_type": "markdown",
      "source": [
        "**Question 14.** Create a class Employee with a method calculate_salary() that computes the salary based on hours worked\n",
        "and hourly rate. Create a derived class Manager that adds a bonus to the salary."
      ],
      "metadata": {
        "id": "54qg5b_u57Fl"
      }
    },
    {
      "cell_type": "code",
      "source": [
        "# Base class: Employee\n",
        "class Employee:\n",
        "    def __init__(self, name, hours_worked, hourly_rate):\n",
        "        self.name = name\n",
        "        self.hours_worked = hours_worked\n",
        "        self.hourly_rate = hourly_rate\n",
        "\n",
        "    def calculate_salary(self):\n",
        "        return self.hours_worked * self.hourly_rate\n",
        "\n",
        "# Derived class: Manager\n",
        "class Manager(Employee):\n",
        "    def __init__(self, name, hours_worked, hourly_rate, bonus):\n",
        "        super().__init__(name, hours_worked, hourly_rate)\n",
        "        self.bonus = bonus\n",
        "\n",
        "    def calculate_salary(self):\n",
        "        base_salary = super().calculate_salary()  # Get salary from the base class\n",
        "        return base_salary + self.bonus  # Add bonus to the base salary\n",
        "\n",
        "# Create an Employee instance\n",
        "employee = Employee(\"John Doe\", 160, 25)\n",
        "\n",
        "# Create a Manager instance\n",
        "manager = Manager(\"Jane Smith\", 160, 30, 5000)\n",
        "\n",
        "# Calculate and print the salary for both Employee and Manager\n",
        "print(f\"{employee.name}'s salary: ${employee.calculate_salary()}\")\n",
        "print(f\"{manager.name}'s salary: ${manager.calculate_salary()}\")\n"
      ],
      "metadata": {
        "colab": {
          "base_uri": "https://localhost:8080/"
        },
        "id": "J847llgJ5uar",
        "outputId": "744b47f4-c440-47cd-b7fc-969d17340ced"
      },
      "execution_count": 14,
      "outputs": [
        {
          "output_type": "stream",
          "name": "stdout",
          "text": [
            "John Doe's salary: $4000\n",
            "Jane Smith's salary: $9800\n"
          ]
        }
      ]
    },
    {
      "cell_type": "markdown",
      "source": [
        "**Question 15.** Create a class Product with attributes name, price, and quantity. Implement a method total_price() that\n",
        "calculates the total price of the product."
      ],
      "metadata": {
        "id": "LkTGdiu76HqT"
      }
    },
    {
      "cell_type": "code",
      "source": [
        "class Product:\n",
        "    def __init__(self, name, price, quantity):\n",
        "        self.name = name\n",
        "        self.price = price\n",
        "        self.quantity = quantity\n",
        "\n",
        "    def total_price(self):\n",
        "        return self.price * self.quantity\n",
        "\n",
        "# Create a Product instance\n",
        "product1 = Product(\"Laptop\", 1000, 3)\n",
        "\n",
        "# Calculate and print the total price of the product\n",
        "print(f\"The total price of {product1.name} is: ${product1.total_price()}\")\n"
      ],
      "metadata": {
        "colab": {
          "base_uri": "https://localhost:8080/"
        },
        "id": "2X2Zs5OG6CgU",
        "outputId": "67952dcc-812f-4ebb-8249-31111753a61e"
      },
      "execution_count": 15,
      "outputs": [
        {
          "output_type": "stream",
          "name": "stdout",
          "text": [
            "The total price of Laptop is: $3000\n"
          ]
        }
      ]
    },
    {
      "cell_type": "markdown",
      "source": [
        "**Question 16.** Create a class Animal with an abstract method sound(). Create two derived classes Cow and Sheep that\n",
        "implement the sound() method."
      ],
      "metadata": {
        "id": "S0PmSNGD6PuQ"
      }
    },
    {
      "cell_type": "code",
      "source": [
        "from abc import ABC, abstractmethod\n",
        "\n",
        "# Abstract base class\n",
        "class Animal(ABC):\n",
        "    @abstractmethod\n",
        "    def sound(self):\n",
        "        pass\n",
        "\n",
        "# Derived class: Cow\n",
        "class Cow(Animal):\n",
        "    def sound(self):\n",
        "        return \"Moo\"\n",
        "\n",
        "# Derived class: Sheep\n",
        "class Sheep(Animal):\n",
        "    def sound(self):\n",
        "        return \"Baa\"\n",
        "\n",
        "# Create instances and call sound()\n",
        "cow = Cow()\n",
        "sheep = Sheep()\n",
        "\n",
        "print(f\"Cow says: {cow.sound()}\")\n",
        "print(f\"Sheep says: {sheep.sound()}\")\n"
      ],
      "metadata": {
        "colab": {
          "base_uri": "https://localhost:8080/"
        },
        "id": "Oej1sEfU6ODX",
        "outputId": "dbd9491d-a5cb-4b83-e3d0-f7c326a16b19"
      },
      "execution_count": 16,
      "outputs": [
        {
          "output_type": "stream",
          "name": "stdout",
          "text": [
            "Cow says: Moo\n",
            "Sheep says: Baa\n"
          ]
        }
      ]
    },
    {
      "cell_type": "markdown",
      "source": [
        "**Question 17.**  Create a class Book with attributes title, author, and year_published. Add a method get_book_info() that\n",
        "returns a formatted string with the book's details."
      ],
      "metadata": {
        "id": "as-2DEJb6eTw"
      }
    },
    {
      "cell_type": "code",
      "source": [
        "class Book:\n",
        "    def __init__(self, title, author, year_published):\n",
        "        self.title = title\n",
        "        self.author = author\n",
        "        self.year_published = year_published\n",
        "\n",
        "    def get_book_info(self):\n",
        "        return f\"'{self.title}' by {self.author}, published in {self.year_published}\"\n",
        "\n",
        "# Create a Book instance\n",
        "book1 = Book(\"1984\", \"George Orwell\", 1949)\n",
        "\n",
        "# Get and print book information\n",
        "print(book1.get_book_info())\n"
      ],
      "metadata": {
        "colab": {
          "base_uri": "https://localhost:8080/"
        },
        "id": "oc9X9E_j6ct6",
        "outputId": "f915b7dd-f3e3-4b14-a117-3380f1bf4523"
      },
      "execution_count": 17,
      "outputs": [
        {
          "output_type": "stream",
          "name": "stdout",
          "text": [
            "'1984' by George Orwell, published in 1949\n"
          ]
        }
      ]
    },
    {
      "cell_type": "markdown",
      "source": [
        "**Question 18.** Create a class House with attributes address and price. Create a derived class Mansion that adds an\n",
        "attribute number_of_rooms."
      ],
      "metadata": {
        "id": "5eYfIp6B6uqt"
      }
    },
    {
      "cell_type": "code",
      "source": [
        "# Base class\n",
        "class House:\n",
        "    def __init__(self, address, price):\n",
        "        self.address = address\n",
        "        self.price = price\n",
        "\n",
        "    def get_info(self):\n",
        "        return f\"Address: {self.address}, Price: ${self.price}\"\n",
        "\n",
        "# Derived class\n",
        "class Mansion(House):\n",
        "    def __init__(self, address, price, number_of_rooms):\n",
        "        super().__init__(address, price)\n",
        "        self.number_of_rooms = number_of_rooms\n",
        "\n",
        "    def get_info(self):\n",
        "        base_info = super().get_info()\n",
        "        return f\"{base_info}, Rooms: {self.number_of_rooms}\"\n",
        "\n",
        "# Create an instance of Mansion\n",
        "mansion1 = Mansion(\"123 Luxury Lane\", 5000000, 10)\n",
        "\n",
        "# Print mansion information\n",
        "print(mansion1.get_info())\n"
      ],
      "metadata": {
        "colab": {
          "base_uri": "https://localhost:8080/"
        },
        "id": "UtaayrrY6tLI",
        "outputId": "6dd63edd-8b5a-47fc-b7a3-c01ff0aad9e3"
      },
      "execution_count": 18,
      "outputs": [
        {
          "output_type": "stream",
          "name": "stdout",
          "text": [
            "Address: 123 Luxury Lane, Price: $5000000, Rooms: 10\n"
          ]
        }
      ]
    },
    {
      "cell_type": "code",
      "source": [],
      "metadata": {
        "id": "eCNHYVAC64OB"
      },
      "execution_count": null,
      "outputs": []
    }
  ]
}