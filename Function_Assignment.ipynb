{
  "cells": [
    {
      "cell_type": "markdown",
      "metadata": {
        "id": "view-in-github",
        "colab_type": "text"
      },
      "source": [
        "<a href=\"https://colab.research.google.com/github/SabaSheikh-1999/Python-Assignment1/blob/main/Function_Assignment.ipynb\" target=\"_parent\"><img src=\"https://colab.research.google.com/assets/colab-badge.svg\" alt=\"Open In Colab\"/></a>"
      ]
    },
    {
      "cell_type": "markdown",
      "source": [
        "**Question 1.** What is the difference between a function and a method in Python?\n",
        "\n",
        " In Python, functions and methods are both blocks of reusable code, but they have a key difference in how they are called and where they are defined.\n",
        "\n",
        " * Function\n",
        "\n",
        "A function is a piece of code defined using def (or lambda) that is not tied to any object. It's called by its name directly.\n",
        "\n"
      ],
      "metadata": {
        "id": "GGBJaZAdlMI2"
      }
    },
    {
      "cell_type": "code",
      "source": [
        "def greet(name):\n",
        "    return f\"Hello, {name}!\"\n",
        "\n",
        "print(greet(\"Alice\"))\n"
      ],
      "metadata": {
        "colab": {
          "base_uri": "https://localhost:8080/"
        },
        "id": "fHuXi-WPmQkE",
        "outputId": "0e468e04-78b8-4c29-d0db-26985e27c6e5"
      },
      "execution_count": null,
      "outputs": [
        {
          "output_type": "stream",
          "name": "stdout",
          "text": [
            "Hello, Alice!\n"
          ]
        }
      ]
    },
    {
      "cell_type": "markdown",
      "source": [
        "* Method\n",
        "\n",
        "A method is a function that is associated with an object. It's defined inside a class and is called using the object (or instance) of that class.\n"
      ],
      "metadata": {
        "id": "gWEIdRlhmeTv"
      }
    },
    {
      "cell_type": "code",
      "source": [
        "class Greeter:\n",
        "    def greet(self, name):\n",
        "        return f\"Hello, {name}!\"\n",
        "\n",
        "g = Greeter()\n",
        "print(g.greet(\"Bob\"))"
      ],
      "metadata": {
        "colab": {
          "base_uri": "https://localhost:8080/"
        },
        "id": "IAECtO7AmvWo",
        "outputId": "18bf5c97-7ec4-4b2e-a3c7-b61865ff26d3"
      },
      "execution_count": null,
      "outputs": [
        {
          "output_type": "stream",
          "name": "stdout",
          "text": [
            "Hello, Bob!\n"
          ]
        }
      ]
    },
    {
      "cell_type": "markdown",
      "source": [
        "**Question 2.** Explain the concept of function arguments and parameters in Python.\n",
        "\n",
        "Parameters\n",
        "\n",
        "These are placeholders in a function definition. They define what kind of data the function expects.\n",
        "\n",
        "Arguments\n",
        "\n",
        "These are the actual values you pass to a function when you call it."
      ],
      "metadata": {
        "id": "GjQR440ZmzGg"
      }
    },
    {
      "cell_type": "code",
      "source": [
        "def greet(name):     # 'name' is a parameter\n",
        "    print(f\"Hello, {name}!\")\n",
        "\n",
        "greet(\"Alice\")       # \"Alice\" is an argument\n"
      ],
      "metadata": {
        "colab": {
          "base_uri": "https://localhost:8080/"
        },
        "id": "W_VQ0fA1njWA",
        "outputId": "abbb9b86-234a-4f6e-ebc9-ba905de662b3"
      },
      "execution_count": null,
      "outputs": [
        {
          "output_type": "stream",
          "name": "stdout",
          "text": [
            "Hello, Alice!\n"
          ]
        }
      ]
    },
    {
      "cell_type": "markdown",
      "source": [],
      "metadata": {
        "id": "Z7b4JHmYnooO"
      }
    },
    {
      "cell_type": "code",
      "source": [
        "#Regular Function\n",
        "\n",
        "#Definition\n",
        "\n",
        "def say_hello():\n",
        "    print(\"Hello!\")\n",
        "\n",
        "#Call\n",
        "\n",
        "say_hello()"
      ],
      "metadata": {
        "colab": {
          "base_uri": "https://localhost:8080/"
        },
        "id": "vhJNqpweqfXZ",
        "outputId": "48ffb78b-6fc3-4058-db5a-1336bff53938"
      },
      "execution_count": null,
      "outputs": [
        {
          "output_type": "stream",
          "name": "stdout",
          "text": [
            "Hello!\n"
          ]
        }
      ]
    },
    {
      "cell_type": "code",
      "source": [
        "#Function with Parameters\n",
        "\n",
        "#Definition\n",
        "\n",
        "def greet(name):\n",
        "    print(f\"Hello, {name}!\")\n",
        "#Call\n",
        "\n",
        "greet(\"Alice\")"
      ],
      "metadata": {
        "id": "Fj6t6Qzxq20n"
      },
      "execution_count": null,
      "outputs": []
    },
    {
      "cell_type": "code",
      "source": [
        "#Function with Return Value\n",
        "\n",
        "#Definition\n",
        "\n",
        "def add(a, b):\n",
        "    return a + b\n",
        "\n",
        "#Call\n",
        "\n",
        "result = add(3, 5)\n",
        "print(result)"
      ],
      "metadata": {
        "colab": {
          "base_uri": "https://localhost:8080/"
        },
        "id": "c9BE1_f3rONc",
        "outputId": "6fcf46e8-5092-4ef6-e539-b0e72a63e425"
      },
      "execution_count": null,
      "outputs": [
        {
          "output_type": "stream",
          "name": "stdout",
          "text": [
            "8\n"
          ]
        }
      ]
    },
    {
      "cell_type": "code",
      "source": [
        "#Function with Default Arguments\n",
        "\n",
        "#Definition\n",
        "\n",
        "def greet(name=\"Guest\"):\n",
        "    print(f\"Hello, {name}!\")\n",
        "\n",
        "#Call\n",
        "\n",
        "greet()\n",
        "greet(\"Alice\")\n"
      ],
      "metadata": {
        "colab": {
          "base_uri": "https://localhost:8080/"
        },
        "id": "xuf4JOydrjoB",
        "outputId": "06b4bab4-ca43-4754-e38e-8656ae85314b"
      },
      "execution_count": null,
      "outputs": [
        {
          "output_type": "stream",
          "name": "stdout",
          "text": [
            "Hello, Guest!\n",
            "Hello, Alice!\n"
          ]
        }
      ]
    },
    {
      "cell_type": "markdown",
      "source": [
        "**Question 4.** What is the purpose of the `return` statement in a Python function?\n",
        "\n",
        "The return statement in a Python function is used to send a result back to the caller. It ends the function and gives back a value (or multiple values).\n",
        "\n",
        " **Purpose of return:**\n",
        "\n",
        "Return a result to be used later.\n",
        "\n",
        "Exit the function early."
      ],
      "metadata": {
        "id": "N_8qxSu2x_Z8"
      }
    },
    {
      "cell_type": "code",
      "source": [
        "def add(a, b):\n",
        "    return a + b  # sends the result back\n",
        "\n",
        "result = add(3, 5)\n",
        "print(result)\n",
        "\n",
        "#If you don’t use return, the function returns None by default."
      ],
      "metadata": {
        "colab": {
          "base_uri": "https://localhost:8080/"
        },
        "id": "9MmY0Mgyxpvv",
        "outputId": "663bca0c-5014-49c9-9eb3-dc9e5c4b8600"
      },
      "execution_count": null,
      "outputs": [
        {
          "output_type": "stream",
          "name": "stdout",
          "text": [
            "8\n"
          ]
        }
      ]
    },
    {
      "cell_type": "markdown",
      "source": [
        "**Question 5. **What are iterators in Python and how do they differ from iterables?\n",
        "\n",
        "An iterable is any object that you can loop over with a for loop. It implements the __iter__() method.\n",
        "\n",
        "Examples: Lists, strings, tuples, sets, dictionaries, etc."
      ],
      "metadata": {
        "id": "H5f4du0pydZW"
      }
    },
    {
      "cell_type": "code",
      "source": [
        "my_list = [1, 2, 3]\n",
        "for item in my_list:\n",
        "    print(item)\n"
      ],
      "metadata": {
        "colab": {
          "base_uri": "https://localhost:8080/"
        },
        "id": "KU65SgMNyVhr",
        "outputId": "eb8bae5d-889e-4a84-a95d-0b4aa5ac82bf"
      },
      "execution_count": null,
      "outputs": [
        {
          "output_type": "stream",
          "name": "stdout",
          "text": [
            "1\n",
            "2\n",
            "3\n"
          ]
        }
      ]
    },
    {
      "cell_type": "markdown",
      "source": [
        "Iterator\n",
        "\n",
        "An iterator is an object that remembers its position and produces the next value when you call next() on it.\n",
        "It implements both __iter__() and __next__() methods.\n",
        "\n",
        "You can create an iterator from an iterable using the iter() function."
      ],
      "metadata": {
        "id": "8NDLIy720D_8"
      }
    },
    {
      "cell_type": "code",
      "source": [
        "my_list = [1, 2, 3]\n",
        "it = iter(my_list)\n",
        "\n",
        "print(next(it))\n",
        "print(next(it))\n",
        "print(next(it))\n"
      ],
      "metadata": {
        "colab": {
          "base_uri": "https://localhost:8080/"
        },
        "id": "6OEsd6u_0Kbe",
        "outputId": "e98e29ef-981a-4809-e17f-57176fd77bcd"
      },
      "execution_count": null,
      "outputs": [
        {
          "output_type": "stream",
          "name": "stdout",
          "text": [
            "1\n",
            "2\n",
            "3\n"
          ]
        }
      ]
    },
    {
      "cell_type": "markdown",
      "source": [
        "**Question 5** Explain the concept of generators in Python and how they are defined?\n",
        "\n",
        "A generator is a function that yields values one at a time as you iterate over it, instead of computing and storing everything at once.\n",
        "\n",
        "**Defining a Generator**\n",
        "\n",
        "Use the yield keyword inside a function to define a generator."
      ],
      "metadata": {
        "id": "HRvDJ83z0Uv2"
      }
    },
    {
      "cell_type": "code",
      "source": [
        "def count_up_to(n):\n",
        "    count = 1\n",
        "    while count <= n:\n",
        "        yield count\n",
        "        count += 1\n",
        "\n",
        "gen = count_up_to(3)\n",
        "\n",
        "for number in gen:\n",
        "    print(number)\n"
      ],
      "metadata": {
        "colab": {
          "base_uri": "https://localhost:8080/"
        },
        "id": "jDFsEgof0RzR",
        "outputId": "52f7365a-34f9-43ab-b7f5-82dff6c1be39"
      },
      "execution_count": null,
      "outputs": [
        {
          "output_type": "stream",
          "name": "stdout",
          "text": [
            "1\n",
            "2\n",
            "3\n"
          ]
        }
      ]
    },
    {
      "cell_type": "markdown",
      "source": [
        "**Question 7.** What are the advantages of using generators over regular functions?\n",
        "\n",
        "Generators offer several advantages over regular functions, especially when working with large datasets or streams of data. Here are some advantages of generators in python.\n",
        "\n",
        "\n",
        "**1.** **Memory Efficiency**\n",
        "\n",
        "Generators yield items one at a time and don’t store the entire sequence in memory."
      ],
      "metadata": {
        "id": "VoeJaU6S03E8"
      }
    },
    {
      "cell_type": "code",
      "source": [
        "def count_up_to(n):\n",
        "    count = 1\n",
        "    while count <= n:\n",
        "        yield count\n",
        "        count += 1\n",
        "\n",
        "for num in count_up_to(1000000):  # handles large range easily\n",
        "    pass  # do something\n"
      ],
      "metadata": {
        "id": "ce5Mqbcf00gu"
      },
      "execution_count": null,
      "outputs": []
    },
    {
      "cell_type": "markdown",
      "source": [
        "**2. Faster Start-Up Time**\n",
        "\n",
        "Since generators don't compute all values at once, they start yielding results immediately.\n",
        "\n",
        "**3. Infinite Sequences Support**\n",
        "\n",
        "You can model infinite sequences using generators without crashing your system.\n",
        "\n",
        "**4. State Retention**\n",
        "\n",
        "Generators automatically save their state between yields, making them ideal for complex iteration logic.\n",
        "\n",
        "**5. Cleaner Code**\n",
        "\n",
        "Generators simplify code that involves iteration, avoiding manual index tracking or creating temporary data structures.\n",
        "\n",
        "**Question 8.** What is a lambda function in Python and when is it typically used?\n",
        "\n",
        "A lambda function in Python is a small, anonymous function defined using the lambda keyword. It's often used when you need a short, throwaway function, usually as an argument to higher-order functions like map(), filter(), or sorted()."
      ],
      "metadata": {
        "id": "FRnoi8xiGKXx"
      }
    },
    {
      "cell_type": "code",
      "source": [
        "#Syntax of Lambda Function\n",
        "\n",
        "#lambda arguments: expression\n",
        "\n",
        "square = lambda x: x * x\n",
        "print(square(5))\n"
      ],
      "metadata": {
        "colab": {
          "base_uri": "https://localhost:8080/"
        },
        "id": "PyFToJxtX0Th",
        "outputId": "84ab6341-3173-4928-dc4e-01d4197b03a9"
      },
      "execution_count": null,
      "outputs": [
        {
          "output_type": "stream",
          "name": "stdout",
          "text": [
            "25\n"
          ]
        }
      ]
    },
    {
      "cell_type": "code",
      "source": [
        "#This is equivalent to\n",
        "\n",
        "def square(x):\n",
        "    return x * x"
      ],
      "metadata": {
        "id": "X9IrhNY_X7B2"
      },
      "execution_count": null,
      "outputs": []
    },
    {
      "cell_type": "markdown",
      "source": [
        "**Question 9.** Explain the purpose and usage of the `map()` function in Python.\n",
        "\n",
        "The map() function in Python is used to apply a function to every item in an iterable (like a list or tuple) and return a new iterator with the results.\n",
        "\n",
        "**Purpose of map()**\n",
        "\n",
        "To transform data by applying a function to each element in a sequence—without writing a loop."
      ],
      "metadata": {
        "id": "S_5PnbUJYMGD"
      }
    },
    {
      "cell_type": "code",
      "source": [
        "map(function, iterable)\n",
        "\n",
        "#function: A function to apply to each item (often a lambda).\n",
        "\n",
        "#iterable: A list, tuple, or other iterable.\n"
      ],
      "metadata": {
        "id": "ygg5MqXxbkC_"
      },
      "execution_count": null,
      "outputs": []
    },
    {
      "cell_type": "markdown",
      "source": [
        "map() returns a map object (iterator), so you usually wrap it in list() or tuple() to see results.\n",
        "\n",
        "Great for clean, functional-style transformations.\n",
        "\n",
        "**Question 10.** What is the difference between `map()`, `reduce()`, and `filter()` functions in Python?\n",
        "\n",
        "In Python, map(), reduce(), and filter() are built-in functions that help in functional programming by operating on iterables (like lists or tuples). Here's a breakdown of what each does, along with examples:\n",
        "\n",
        " 1. map()\n",
        "\n",
        "Purpose: Applies a function to each item in an iterable and returns a new iterable (usually a map object)."
      ],
      "metadata": {
        "id": "V-vUEzOCbuSl"
      }
    },
    {
      "cell_type": "code",
      "source": [
        "# Square each number in the list\n",
        "nums = [1, 2, 3, 4]\n",
        "squared = list(map(lambda x: x**2, nums))\n",
        "print(squared)\n"
      ],
      "metadata": {
        "colab": {
          "base_uri": "https://localhost:8080/"
        },
        "id": "luaLROkT11VQ",
        "outputId": "06ace5fe-b504-45f4-cb15-7916c53b84b3"
      },
      "execution_count": null,
      "outputs": [
        {
          "output_type": "stream",
          "name": "stdout",
          "text": [
            "[1, 4, 9, 16]\n"
          ]
        }
      ]
    },
    {
      "cell_type": "markdown",
      "source": [
        "2. filter()\n",
        "\n",
        "Purpose: Filters items in an iterable based on a function that returns True or False."
      ],
      "metadata": {
        "id": "pHJAChu_2CO_"
      }
    },
    {
      "cell_type": "code",
      "source": [
        "# Keep only even numbers\n",
        "nums = [1, 2, 3, 4, 5, 6]\n",
        "evens = list(filter(lambda x: x % 2 == 0, nums))\n",
        "print(evens)\n"
      ],
      "metadata": {
        "colab": {
          "base_uri": "https://localhost:8080/"
        },
        "id": "pyDmIN9c2JKM",
        "outputId": "851125a6-a166-423f-ebed-4cf0278cddf4"
      },
      "execution_count": null,
      "outputs": [
        {
          "output_type": "stream",
          "name": "stdout",
          "text": [
            "[2, 4, 6]\n"
          ]
        }
      ]
    },
    {
      "cell_type": "markdown",
      "source": [
        "3.reduce()\n",
        "\n",
        "Purpose: Applies a function cumulatively to the items of an iterable, reducing it to a single value."
      ],
      "metadata": {
        "id": "d4S_XU6X2OD0"
      }
    },
    {
      "cell_type": "code",
      "source": [
        "from functools import reduce\n",
        "\n",
        "# Multiply all numbers together\n",
        "nums = [1, 2, 3, 4]\n",
        "product = reduce(lambda x, y: x * y, nums)\n",
        "print(product)\n"
      ],
      "metadata": {
        "colab": {
          "base_uri": "https://localhost:8080/"
        },
        "id": "3sz7ThFO2MUn",
        "outputId": "604047e8-352a-4f96-be6f-9fb15ca621cc"
      },
      "execution_count": null,
      "outputs": [
        {
          "output_type": "stream",
          "name": "stdout",
          "text": [
            "24\n"
          ]
        }
      ]
    },
    {
      "cell_type": "markdown",
      "source": [
        "**Practical Questions:**\n",
        "\n",
        "**Question 1.** Write a Python function that takes a list of numbers as input and returns the sum of all even numbers in\n",
        "the list."
      ],
      "metadata": {
        "id": "ObOzW8Qg2aoE"
      }
    },
    {
      "cell_type": "code",
      "source": [
        "def sum_of_even_numbers(numbers):\n",
        "    return sum(filter(lambda x: x % 2 == 0, numbers))\n",
        "\n",
        "nums = [1, 2, 3, 4, 5, 6]\n",
        "result = sum_of_even_numbers(nums)\n",
        "print(result)\n"
      ],
      "metadata": {
        "colab": {
          "base_uri": "https://localhost:8080/"
        },
        "id": "1t9RG7Nv2ZYC",
        "outputId": "dec6b7ab-7bc8-4c91-e83a-594c6b43c2af"
      },
      "execution_count": null,
      "outputs": [
        {
          "output_type": "stream",
          "name": "stdout",
          "text": [
            "12\n"
          ]
        }
      ]
    },
    {
      "cell_type": "markdown",
      "source": [
        "**Question 2.** Create a Python function that accepts a string and returns the reverse of that string."
      ],
      "metadata": {
        "id": "DdNg_U9e29j1"
      }
    },
    {
      "cell_type": "code",
      "source": [
        "def reverse_string(s):\n",
        "    return s[::-1]\n",
        "\n",
        "text = \"hello\"\n",
        "reversed_text = reverse_string(text)\n",
        "print(reversed_text)\n"
      ],
      "metadata": {
        "colab": {
          "base_uri": "https://localhost:8080/"
        },
        "id": "f6LkhA2528VM",
        "outputId": "f55b0a07-d80e-4629-82ad-0f622cd7ee78"
      },
      "execution_count": null,
      "outputs": [
        {
          "output_type": "stream",
          "name": "stdout",
          "text": [
            "olleh\n"
          ]
        }
      ]
    },
    {
      "cell_type": "markdown",
      "source": [
        "**Question 3.** Implement a Python function that takes a list of integers and returns a new list containing the squares of\n",
        "each number."
      ],
      "metadata": {
        "id": "8-U2I7f66fXH"
      }
    },
    {
      "cell_type": "code",
      "source": [
        "def square_numbers(numbers):\n",
        "    return [x**2 for x in numbers]\n",
        "\n",
        "nums = [1, 2, 3, 4, 5]\n",
        "squared_list = square_numbers(nums)\n",
        "print(squared_list)\n"
      ],
      "metadata": {
        "colab": {
          "base_uri": "https://localhost:8080/"
        },
        "id": "zo6L0TGu6UmG",
        "outputId": "eaec6960-da17-4cd0-cd36-0b276f0c50cc"
      },
      "execution_count": null,
      "outputs": [
        {
          "output_type": "stream",
          "name": "stdout",
          "text": [
            "[1, 4, 9, 16, 25]\n"
          ]
        }
      ]
    },
    {
      "cell_type": "markdown",
      "source": [
        "**Question 4.** Write a Python function that checks if a given number is prime or not from 1 to 200."
      ],
      "metadata": {
        "id": "te4nVJV4b4Rv"
      }
    },
    {
      "cell_type": "code",
      "source": [
        "def is_prime(n):\n",
        "    if n <= 1:\n",
        "        return False\n",
        "    for i in range(2, int(n**0.5) + 1):\n",
        "        if n % i == 0:\n",
        "            return False\n",
        "    return True\n",
        "\n",
        "for num in range(1, 201):\n",
        "    if is_prime(num):\n",
        "        print(num, \"is a prime number\")\n"
      ],
      "metadata": {
        "colab": {
          "base_uri": "https://localhost:8080/"
        },
        "id": "tkn14gBXbkpN",
        "outputId": "c0a33b56-4ad1-420d-dc7f-1465fcfeff10"
      },
      "execution_count": null,
      "outputs": [
        {
          "output_type": "stream",
          "name": "stdout",
          "text": [
            "2 is a prime number\n",
            "3 is a prime number\n",
            "5 is a prime number\n",
            "7 is a prime number\n",
            "11 is a prime number\n",
            "13 is a prime number\n",
            "17 is a prime number\n",
            "19 is a prime number\n",
            "23 is a prime number\n",
            "29 is a prime number\n",
            "31 is a prime number\n",
            "37 is a prime number\n",
            "41 is a prime number\n",
            "43 is a prime number\n",
            "47 is a prime number\n",
            "53 is a prime number\n",
            "59 is a prime number\n",
            "61 is a prime number\n",
            "67 is a prime number\n",
            "71 is a prime number\n",
            "73 is a prime number\n",
            "79 is a prime number\n",
            "83 is a prime number\n",
            "89 is a prime number\n",
            "97 is a prime number\n",
            "101 is a prime number\n",
            "103 is a prime number\n",
            "107 is a prime number\n",
            "109 is a prime number\n",
            "113 is a prime number\n",
            "127 is a prime number\n",
            "131 is a prime number\n",
            "137 is a prime number\n",
            "139 is a prime number\n",
            "149 is a prime number\n",
            "151 is a prime number\n",
            "157 is a prime number\n",
            "163 is a prime number\n",
            "167 is a prime number\n",
            "173 is a prime number\n",
            "179 is a prime number\n",
            "181 is a prime number\n",
            "191 is a prime number\n",
            "193 is a prime number\n",
            "197 is a prime number\n",
            "199 is a prime number\n"
          ]
        }
      ]
    },
    {
      "cell_type": "markdown",
      "source": [
        "**Question 5.** Create an iterator class in Python that generates the Fibonacci sequence up to a specified number of\n",
        "terms."
      ],
      "metadata": {
        "id": "G3kngD7PcPbc"
      }
    },
    {
      "cell_type": "code",
      "source": [
        "class Fibonacci:\n",
        "    def __init__(self, max_terms):\n",
        "        self.max_terms = max_terms\n",
        "        self.n1, self.n2 = 0, 1\n",
        "        self.count = 0\n",
        "\n",
        "    def __iter__(self):\n",
        "        return self\n",
        "\n",
        "    def __next__(self):\n",
        "        if self.count >= self.max_terms:\n",
        "            raise StopIteration\n",
        "        if self.count == 0:\n",
        "            self.count += 1\n",
        "            return self.n1\n",
        "        elif self.count == 1:\n",
        "            self.count += 1\n",
        "            return self.n2\n",
        "        else:\n",
        "            next_term = self.n1 + self.n2\n",
        "            self.n1, self.n2 = self.n2, next_term\n",
        "            self.count += 1\n",
        "            return next_term\n",
        "\n",
        "fib = Fibonacci(10)\n",
        "for num in fib:\n",
        "    print(num, end=' ')\n"
      ],
      "metadata": {
        "colab": {
          "base_uri": "https://localhost:8080/"
        },
        "id": "kHGh349McKtG",
        "outputId": "b6b8ad7a-aeb5-4d62-fbec-a7b55c9b0dd8"
      },
      "execution_count": null,
      "outputs": [
        {
          "output_type": "stream",
          "name": "stdout",
          "text": [
            "0 1 1 2 3 5 8 13 21 34 "
          ]
        }
      ]
    },
    {
      "cell_type": "markdown",
      "source": [
        "**Question 6.** Write a generator function in Python that yields the powers of 2 up to a given exponent."
      ],
      "metadata": {
        "id": "JYbQTADgch8o"
      }
    },
    {
      "cell_type": "code",
      "source": [
        "def powers_of_two(max_exponent):\n",
        "    for i in range(max_exponent + 1):\n",
        "        yield 2 ** i\n",
        "\n",
        "for power in powers_of_two(5):\n",
        "    print(power, end=' ')\n"
      ],
      "metadata": {
        "colab": {
          "base_uri": "https://localhost:8080/"
        },
        "id": "r-ZG6BZMcgr6",
        "outputId": "e97e2aa4-77c5-48b8-ce01-94f86a551653"
      },
      "execution_count": null,
      "outputs": [
        {
          "output_type": "stream",
          "name": "stdout",
          "text": [
            "1 2 4 8 16 32 "
          ]
        }
      ]
    },
    {
      "cell_type": "markdown",
      "source": [
        "**Question 7.** Implement a generator function that reads a file line by line and yields each line as a string."
      ],
      "metadata": {
        "id": "-0idCcjidlLT"
      }
    },
    {
      "cell_type": "code",
      "source": [
        "def read_file_line_by_line(filename):\n",
        "    with open(filename, 'r') as file:\n",
        "        for line in file:\n",
        "            yield line.rstrip('\\n')\n",
        "\n",
        "for line in read_file_line_by_line('example.txt'):\n",
        "    print(line)\n",
        "#This function is memory-efficient, especially for large files, since it processes one line at a time."
      ],
      "metadata": {
        "id": "Mkuy6AYodjER"
      },
      "execution_count": null,
      "outputs": []
    },
    {
      "cell_type": "markdown",
      "source": [
        "**Question 8.** Use a lambda function in Python to sort a list of tuples based on the second element of each tuple."
      ],
      "metadata": {
        "id": "NOBue6Dtef_w"
      }
    },
    {
      "cell_type": "code",
      "source": [
        "# Sample list of tuples\n",
        "tuples_list = [(1, 3), (2, 1), (4, 2), (5, 0)]\n",
        "\n",
        "# Sort based on the second element\n",
        "sorted_list = sorted(tuples_list, key=lambda x: x[1])\n",
        "\n",
        "print(sorted_list)\n",
        "\n",
        "#The lambda x: x[1] tells sorted() to sort using the second item in each tuple"
      ],
      "metadata": {
        "colab": {
          "base_uri": "https://localhost:8080/"
        },
        "id": "rOn-6MI4eq04",
        "outputId": "362b2cce-343f-413d-a9b9-f87236b71b79"
      },
      "execution_count": null,
      "outputs": [
        {
          "output_type": "stream",
          "name": "stdout",
          "text": [
            "[(5, 0), (2, 1), (4, 2), (1, 3)]\n"
          ]
        }
      ]
    },
    {
      "cell_type": "markdown",
      "source": [
        "**Question 9.** Write a Python program that uses `map()` to convert a list of temperatures from Celsius to Fahrenheit.\n",
        "\n",
        "Python program that uses map() to convert a list of temperatures from Celsius to Fahrenheit"
      ],
      "metadata": {
        "id": "l45R933Pe09V"
      }
    },
    {
      "cell_type": "code",
      "source": [
        "# Function to convert Celsius to Fahrenheit\n",
        "def celsius_to_fahrenheit(c):\n",
        "    return (c * 9/5) + 32\n",
        "\n",
        "# List of temperatures in Celsius\n",
        "celsius_temps = [0, 20, 30, 37, 100]\n",
        "\n",
        "# Convert using map\n",
        "fahrenheit_temps = list(map(celsius_to_fahrenheit, celsius_temps))\n",
        "\n",
        "# Output the result\n",
        "print(fahrenheit_temps)\n"
      ],
      "metadata": {
        "colab": {
          "base_uri": "https://localhost:8080/"
        },
        "id": "E2NGvHRLewTa",
        "outputId": "ab7cce15-a09b-4ebc-f1b6-f7ff33cd28d2"
      },
      "execution_count": null,
      "outputs": [
        {
          "output_type": "stream",
          "name": "stdout",
          "text": [
            "[32.0, 68.0, 86.0, 98.6, 212.0]\n"
          ]
        }
      ]
    },
    {
      "cell_type": "code",
      "source": [
        "#Using a lambda function\n",
        "\n",
        "fahrenheit_temps = list(map(lambda c: (c * 9/5) + 32, celsius_temps))\n"
      ],
      "metadata": {
        "id": "9Mp_wj78kZeI"
      },
      "execution_count": null,
      "outputs": []
    },
    {
      "cell_type": "markdown",
      "source": [
        "**Question 10.** Create a Python program that uses `filter()` to remove all the vowels from a given string."
      ],
      "metadata": {
        "id": "H7XzEvN4kkgn"
      }
    },
    {
      "cell_type": "code",
      "source": [
        "#ere's a Python program that uses filter() to remove all the vowels from a given string:\n",
        "\n",
        "# Function to filter out vowels\n",
        "def remove_vowels(s):\n",
        "    vowels = \"aeiouAEIOU\"\n",
        "    return ''.join(filter(lambda x: x not in vowels, s))\n",
        "\n",
        "# Example string\n",
        "input_string = \"Hello, World!\"\n",
        "\n",
        "# Remove vowels\n",
        "result = remove_vowels(input_string)\n",
        "\n",
        "# Output the result\n",
        "print(result)\n",
        "\n"
      ],
      "metadata": {
        "colab": {
          "base_uri": "https://localhost:8080/"
        },
        "id": "_PWXEwN0kiRE",
        "outputId": "e1473a3b-bd2e-43cf-e7bd-fc8784a798b6"
      },
      "execution_count": null,
      "outputs": [
        {
          "output_type": "stream",
          "name": "stdout",
          "text": [
            "Hll, Wrld!\n"
          ]
        }
      ]
    },
    {
      "cell_type": "markdown",
      "source": [
        "**How it works:**\n",
        "\n",
        "The filter() function is used to keep only those characters that are not in the vowels string.\n",
        "\n",
        "''.join() is then used to combine the filtered characters back into a string."
      ],
      "metadata": {
        "id": "utIiEiIck5-U"
      }
    },
    {
      "cell_type": "markdown",
      "source": [
        "**Question 11.** Write a Python program, which returns a list with 2-tuples. Each tuple consists of the order number and the\n",
        "product of the price per item and the quantity. The product should be increased by 10,- € if the value of the\n",
        "order is smaller than 100,00 €."
      ],
      "metadata": {
        "id": "izH8_ZlvU_kg"
      }
    },
    {
      "cell_type": "code",
      "source": [
        "# Book Orders\n",
        "orders = [\n",
        "    [34587, \"Learning Python, Mark Lutz\", 4, 40.95],\n",
        "    [98762, \"Programming Python, Mark Lutz\", 5, 56.80],\n",
        "    [77226, \"Head First Python, Paul Barry\", 3, 32.95],\n",
        "    [88112, \"Einführung in Python3, Bernd Klein\", 3, 24.99]\n",
        "]\n",
        "\n",
        "# Create Invoice\n",
        "invoice = list(\n",
        "    map(lambda order: (\n",
        "        order[0],\n",
        "        round(order[2] * order[3], 2) if order[2] * order[3] >= 100 else round(order[2] * order[3] + 10, 2)\n",
        "    ), orders)\n",
        ")\n",
        "\n",
        "# Print Result\n",
        "print(invoice)\n",
        "[(34587, 163.8), (98762, 284.0), (77226, 108.85), (88112, 84.97)]"
      ],
      "metadata": {
        "colab": {
          "base_uri": "https://localhost:8080/"
        },
        "id": "acDwWxlSWUbC",
        "outputId": "3cc66d19-70d3-4ba2-e5e1-bcfe410ccda9"
      },
      "execution_count": 4,
      "outputs": [
        {
          "output_type": "stream",
          "name": "stdout",
          "text": [
            "[(34587, 163.8), (98762, 284.0), (77226, 108.85), (88112, 84.97)]\n"
          ]
        },
        {
          "output_type": "execute_result",
          "data": {
            "text/plain": [
              "[(34587, 163.8), (98762, 284.0), (77226, 108.85), (88112, 84.97)]"
            ]
          },
          "metadata": {},
          "execution_count": 4
        }
      ]
    },
    {
      "cell_type": "code",
      "source": [],
      "metadata": {
        "id": "uu0ymSx_VyPq"
      },
      "execution_count": null,
      "outputs": []
    }
  ],
  "metadata": {
    "colab": {
      "toc_visible": true,
      "provenance": [],
      "include_colab_link": true
    },
    "kernelspec": {
      "display_name": "Python 3",
      "name": "python3"
    }
  },
  "nbformat": 4,
  "nbformat_minor": 0
}