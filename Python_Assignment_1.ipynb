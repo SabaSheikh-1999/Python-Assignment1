{
  "nbformat": 4,
  "nbformat_minor": 0,
  "metadata": {
    "colab": {
      "provenance": []
    },
    "kernelspec": {
      "name": "python3",
      "display_name": "Python 3"
    },
    "language_info": {
      "name": "python"
    }
  },
  "cells": [
    {
      "cell_type": "code",
      "execution_count": null,
      "metadata": {
        "id": "8BpVLfmSRjQw"
      },
      "outputs": [],
      "source": []
    },
    {
      "cell_type": "markdown",
      "source": [
        "  **Question1**. Explain the key features of Python that make it a popular choice for programming.\n",
        "\n",
        "Python is one of the most popular programming languages and easiest language for the beginners.  Here are the key features that contribute to its popularity:\n",
        "\n",
        "1. **Simple and Easy to Learn**: Python is easy to read because it's laguage is quite like english which helps beginners to learn and understand cods fast as compared to other programming language like C, C++, Java, etc, Python is the easiest language to learn and master.\n",
        "\n",
        "2. **Widely Used in Multiple Domains**: We can use pythong for various platforms. It can be used to create all sorts of web and mobile applications, from advanced financial service. Here are some examples of domain:\n",
        "\n",
        "a) Web develpoment\n",
        "\n",
        "b) Data analysis and Data science\n",
        "\n",
        "c) Machiene learning and AI\n",
        "\n",
        "d) Game development\n",
        "\n",
        "3. **Free and open source**: Pythong is free and open souce which means we can learn this programming laguage from any source withou fee and we can also download it and use it withou any copyright issue. It is widely use laguage because it's a free and easy programming language.\n",
        "\n",
        "4. **Cross-Platform Language**: Python is a cross-platform language. We can run python on multiple operating systems like windows, macOS and Linux. Many times while donwloading some software there is different version for different operating sysytem but in python it's not like that we can use python in every system.\n",
        "\n",
        "5. **Dynamic Typing:** Dynamic typing means that we don't need to declare the data type of a variable before using it. The data type is determined at runtime, based on the assigned value.This feature of python saves a lot of time and helps us to avoid pitfalls that might have occurred if it required the datatype to be mentioned explicitly.\n",
        "\n",
        "**Question2.**  Describe the role of predefined keywords in Python and provide examples of how they are used in a\n",
        "program.\n",
        "\n",
        "Predefined keywords in Python are reserved words that have special meaning in the language.Predefined keywords in Python are reserved words that have special meaning in the language. These keywords help define the structure and rules of Python code.\n",
        "\n",
        "Here are some examples of Python keywords and their uses:\n",
        "\n",
        "a) **True and False and Boolean Values**.\n",
        "These are used in conditions, comparisons, and logical operations.\n",
        "\n",
        "For Example:\n",
        "\n"
      ],
      "metadata": {
        "id": "HvUjwbviRkbQ"
      }
    },
    {
      "cell_type": "code",
      "source": [
        "age= 23\n",
        "Old= False\n",
        "Me= None\n",
        "\n",
        "print(type(Old))\n",
        "print(type(Me))"
      ],
      "metadata": {
        "colab": {
          "base_uri": "https://localhost:8080/"
        },
        "id": "Y22nD59jfOY9",
        "outputId": "2c1af674-7df7-4868-ce69-b9ef6324a160"
      },
      "execution_count": 3,
      "outputs": [
        {
          "output_type": "stream",
          "name": "stdout",
          "text": [
            "<class 'bool'>\n",
            "<class 'NoneType'>\n"
          ]
        }
      ]
    },
    {
      "cell_type": "markdown",
      "source": [],
      "metadata": {
        "id": "GX0JvLkSf6Xg"
      }
    },
    {
      "cell_type": "markdown",
      "source": [],
      "metadata": {
        "id": "bHi581v2fO81"
      }
    },
    {
      "cell_type": "markdown",
      "source": [
        "**Question3**.  Compare and contrast mutable and immutable objects in Python with examples\n",
        "\n",
        "The difference between mutable and immutable objects is that mutable objects can be modified, while immutable objects can’t be altered once created.Mutable allow you to change their value or data directly without affecting their identity but immutable objects, like tuples and strings, don’t allow in-place modifications.\n",
        "\n",
        "Mutable Example:\n"
      ],
      "metadata": {
        "id": "yq8loht0h7R5"
      }
    },
    {
      "cell_type": "code",
      "source": [
        "numbers = [1,2,3]\n",
        "\n",
        "print(\"Before:\", numbers)\n",
        "\n",
        "numbers.append(4)\n",
        "\n",
        "print(\"After:\", numbers)"
      ],
      "metadata": {
        "colab": {
          "base_uri": "https://localhost:8080/"
        },
        "id": "xePCiIrNi6Cm",
        "outputId": "0f7e21f7-43fc-4528-fe57-e425df15d56a"
      },
      "execution_count": 5,
      "outputs": [
        {
          "output_type": "stream",
          "name": "stdout",
          "text": [
            "Before: [1, 2, 3]\n",
            "After: [1, 2, 3, 4]\n"
          ]
        }
      ]
    },
    {
      "cell_type": "markdown",
      "source": [],
      "metadata": {
        "id": "ajqizh0URrjx"
      }
    },
    {
      "cell_type": "markdown",
      "source": [
        "Immutable Example\n",
        "\n"
      ],
      "metadata": {
        "id": "uwK9g7SEj_h0"
      }
    },
    {
      "cell_type": "code",
      "source": [
        "greeting = (\"Hello\")\n",
        "\n",
        "print(\"original:\", greeting)"
      ],
      "metadata": {
        "colab": {
          "base_uri": "https://localhost:8080/"
        },
        "id": "x3GSBdESkDRY",
        "outputId": "c2fba2fc-b987-462b-d004-17ce6ccf95d3"
      },
      "execution_count": 9,
      "outputs": [
        {
          "output_type": "stream",
          "name": "stdout",
          "text": [
            "original: Hello\n"
          ]
        }
      ]
    },
    {
      "cell_type": "code",
      "source": [
        "greeting = greeting + \"World\"\n",
        "\n",
        "print(\"Modified:\", greeting)\n"
      ],
      "metadata": {
        "colab": {
          "base_uri": "https://localhost:8080/"
        },
        "id": "D_p703jVkcrs",
        "outputId": "0b69067d-669c-4a2e-ae40-a6740448ed99"
      },
      "execution_count": 10,
      "outputs": [
        {
          "output_type": "stream",
          "name": "stdout",
          "text": [
            "Modified: HelloWorld\n"
          ]
        }
      ]
    },
    {
      "cell_type": "code",
      "source": [],
      "metadata": {
        "id": "CJ_FaL9pkybd"
      },
      "execution_count": null,
      "outputs": []
    },
    {
      "cell_type": "markdown",
      "source": [
        "**Question4.** Discuss the different types of operators in Python and provide examples of how they are used.\n",
        "\n",
        "Operators are special symbols used to perform operations on variable and values. These operators can include artimetic, comparison, logical, assignment and more. They serve as a basis for expressions, which are used to modify data and execute computations.Python contains several operators, each with its unique purpose.\n",
        "\n",
        "Here are main type of operators in python.\n",
        "\n",
        "a) Arithmetic Operators\n",
        "\n",
        "1. Addition\n",
        "2. Subtraction\n",
        "3. Multiplication\n",
        "4. Division\n",
        "5. Exponentation\n",
        "6. Modulus\n",
        "7. Floor Division\n",
        "\n",
        "b) Comparison Operators\n",
        "1. equal to\n",
        "2. not equal to\n",
        "3. greater than.\n",
        "4. less than\n",
        "5. greater than or qual to\n",
        "6. less than or equal to\n",
        "\n",
        "c) Assignment Opereators\n",
        "1. Simple Assignment\n",
        "2. Addition Assignment\n",
        "3. Subtraction Assignment\n",
        "4. Multiplication Assignment\n",
        "5. Division Assignment\n",
        "\n",
        "d) Logical Operators\n",
        "1. And\n",
        "2. Or\n",
        "3. Not\n",
        "\n",
        "e) String Operators\n",
        "1. Concatenation\n",
        "2. Repetition\n",
        "\n"
      ],
      "metadata": {
        "id": "pEANleDxlT59"
      }
    },
    {
      "cell_type": "code",
      "source": [
        "#Arithmetic Operators Example\n",
        "\n",
        "a= 5\n",
        "b= 2\n",
        "\n",
        "print(a+b)\n",
        "\n",
        "print(a*b)"
      ],
      "metadata": {
        "colab": {
          "base_uri": "https://localhost:8080/"
        },
        "id": "90Ctnu82tPqK",
        "outputId": "7f23103c-04c2-48d6-bb0f-f73c406d4d39"
      },
      "execution_count": 2,
      "outputs": [
        {
          "output_type": "stream",
          "name": "stdout",
          "text": [
            "7\n",
            "10\n"
          ]
        }
      ]
    },
    {
      "cell_type": "code",
      "source": [
        "#Comparision Operators Example\n",
        "\n",
        "a= 5\n",
        "b= 2\n",
        "\n",
        "print(a > b)\n",
        "\n",
        "print(a==b)"
      ],
      "metadata": {
        "colab": {
          "base_uri": "https://localhost:8080/"
        },
        "id": "WhirbG6qteNp",
        "outputId": "56896e16-427b-4114-ce18-e627f1f23b0c"
      },
      "execution_count": 4,
      "outputs": [
        {
          "output_type": "stream",
          "name": "stdout",
          "text": [
            "True\n",
            "False\n"
          ]
        }
      ]
    },
    {
      "cell_type": "code",
      "source": [
        "#Assignment Operators Example\n",
        "\n",
        "a= 5\n",
        "b= 2\n",
        "a+= b\n",
        "\n",
        "print(a)"
      ],
      "metadata": {
        "colab": {
          "base_uri": "https://localhost:8080/"
        },
        "id": "lSAcQv5NuBTN",
        "outputId": "543cfa4a-7c4d-46ad-b973-e0919c7c6e10"
      },
      "execution_count": 5,
      "outputs": [
        {
          "output_type": "stream",
          "name": "stdout",
          "text": [
            "7\n"
          ]
        }
      ]
    },
    {
      "cell_type": "code",
      "source": [
        "#Logical Operators Example\n",
        "\n",
        "a= True\n",
        "b= False\n",
        "\n",
        "print(a and b)\n",
        "\n",
        "print(a or b)"
      ],
      "metadata": {
        "colab": {
          "base_uri": "https://localhost:8080/"
        },
        "id": "IvCs7taVuZaI",
        "outputId": "ca5e1965-14fb-4070-8d6e-3ad682520e6b"
      },
      "execution_count": 7,
      "outputs": [
        {
          "output_type": "stream",
          "name": "stdout",
          "text": [
            "False\n",
            "True\n"
          ]
        }
      ]
    },
    {
      "cell_type": "code",
      "source": [
        "#String Operators Example\n",
        "\n",
        "a= \"Hello\"\n",
        "b= \"World\"\n",
        "\n",
        "print(a + b)\n",
        "print(a*2)"
      ],
      "metadata": {
        "colab": {
          "base_uri": "https://localhost:8080/"
        },
        "id": "ANsNgI-Zut7O",
        "outputId": "3d1fa32b-2e1d-4f89-fda6-454b3c96ec24"
      },
      "execution_count": 10,
      "outputs": [
        {
          "output_type": "stream",
          "name": "stdout",
          "text": [
            "HelloWorld\n",
            "HelloHello\n"
          ]
        }
      ]
    },
    {
      "cell_type": "code",
      "source": [],
      "metadata": {
        "id": "sytA7vtxvF3u"
      },
      "execution_count": null,
      "outputs": []
    },
    {
      "cell_type": "markdown",
      "source": [
        "**Question5.** Explain the concept of type casting in Python with examples.\n",
        "\n",
        "\n",
        "Type casting, also known as type conversion, is the process of converting one data type into another. Type casting is useful when you need to perform operations that require specific data types or when working with different data types in your code. There are two types of typin cast \" Implict type casting\" and \" Explicit type casting\"\n"
      ],
      "metadata": {
        "id": "ke9Q7WL3vXAm"
      }
    },
    {
      "cell_type": "code",
      "source": [
        "#Implicit type casting automatically performed by Python when it encounters a mix of data types in an expression. For Example\n",
        "\n",
        "a= 5 #int\n",
        "b= 3.0 #float\n",
        "result= a + b\n",
        "\n",
        "print(result)\n",
        "\n",
        "print(type(result))"
      ],
      "metadata": {
        "colab": {
          "base_uri": "https://localhost:8080/"
        },
        "id": "yHG5wr9Wxyjw",
        "outputId": "94c92750-080a-45f0-b4d9-622f295f6467"
      },
      "execution_count": 12,
      "outputs": [
        {
          "output_type": "stream",
          "name": "stdout",
          "text": [
            "8.0\n",
            "<class 'float'>\n"
          ]
        }
      ]
    },
    {
      "cell_type": "code",
      "source": [
        "#Explicit type casting requires the programmer to explicitly specify the type conversion. Involves converting a “larger” data type to a “smaller” one.\n",
        "\n",
        "a= 5.5\n",
        "b= int(a)\n",
        "\n",
        "print(b)"
      ],
      "metadata": {
        "colab": {
          "base_uri": "https://localhost:8080/"
        },
        "id": "Ex6YQHWhybp1",
        "outputId": "5df3a73b-9b1d-43e9-9486-4b8484df6947"
      },
      "execution_count": 13,
      "outputs": [
        {
          "output_type": "stream",
          "name": "stdout",
          "text": [
            "5\n"
          ]
        }
      ]
    },
    {
      "cell_type": "code",
      "source": [],
      "metadata": {
        "id": "VLbDwjfey9Dh"
      },
      "execution_count": null,
      "outputs": []
    },
    {
      "cell_type": "markdown",
      "source": [
        "**Question6** How do conditional statements work in Python? Illustrate with examples.\n",
        "\n",
        "Conditional statements in Python are used to execute specific blocks of code based on conditions or decisions.  It decides the control flow of a Python program according to the output of the given condition. We use different mathematical logic in Python to implement if-else statements and check conditions in various situations. Here are the operators we use with Python conditional statements:\n",
        "\n",
        "Equals (==)- We use it to check if a variable is equal to another variable. For example, m == n.\n",
        "\n",
        "Not Equals )!=)- To check if a variable is not equal to another variable. For example, m != n.\n",
        "\n",
        "Greater Than (>)- To check if a variable is greater than another variable. For example, m > n.\n",
        "\n",
        "Less Than (<)- To check if a variable is less than another variable. For example, m < n.\n",
        "\n",
        "Greater Than or Equal to- To assess if a variable is greater than or equal to another variable. For example, m >= n.\n",
        "\n",
        "Less Than or Equal to- To evaluate if a variable is less than or equal to another variable. For example, m <= n.\n",
        "\n",
        "The most conditional statements are:"
      ],
      "metadata": {
        "id": "SE2Ui7IezL8C"
      }
    },
    {
      "cell_type": "code",
      "source": [
        "#If Statement:It use to execute a block of code if a condition is true\n",
        "\n",
        "x= 5\n",
        "if x > 10\n",
        "  print(\"x is greater than 10\")\n",
        "\n",
        "  print(\"x is less than 10\")"
      ],
      "metadata": {
        "id": "6zRhGVXJ1SqG"
      },
      "execution_count": 19,
      "outputs": []
    },
    {
      "cell_type": "code",
      "source": [
        "#If-Else statement: It is use to execute one block of code if a condition is true and another block if the condition false.\n",
        "\n",
        "age= 25\n",
        "if age >= 18:\n",
        "  print(\"you are and adult\")\n",
        "\n",
        "  print(\"you are a minor\")"
      ],
      "metadata": {
        "colab": {
          "base_uri": "https://localhost:8080/"
        },
        "id": "hCaL0Vxd1spE",
        "outputId": "797b2182-fa2c-476c-9548-ea2a8b7ae39a"
      },
      "execution_count": 22,
      "outputs": [
        {
          "output_type": "stream",
          "name": "stdout",
          "text": [
            "you are and adult\n",
            "you are a minor\n"
          ]
        }
      ]
    },
    {
      "cell_type": "code",
      "source": [
        "#If-Elif_Else statement: It's used to check multiple conditions and execute different blocks of code.\n",
        "\n",
        "score= 85\n",
        "if score >= 90:\n",
        "  print(\"grade A\")\n",
        "\n"
      ],
      "metadata": {
        "id": "pYQXxwxh2oj0"
      },
      "execution_count": 23,
      "outputs": []
    },
    {
      "cell_type": "markdown",
      "source": [
        "**Question7.** Describe the different types of loops in Python and their use cases with examples.\n",
        "\n",
        "Python programming loops are instructions to repeat something multiple times until a specific condition is met. In Python, we can run either a single or several statements over and over through a loop command. Python has two primary loops: For Loops and While Loops.\n"
      ],
      "metadata": {
        "id": "nvIUnWj85B6V"
      }
    },
    {
      "cell_type": "code",
      "source": [
        "#For Loops: For loops are used to iterate over a swquence( suc as a list, tuple, or string) or other iterable objects.\n",
        "\n",
        "#Example\n",
        "\n",
        "fruits= ['apple', 'grapes', 'papaya']\n",
        "\n",
        "print(fruits)\n",
        "\n",
        "students= ['anaya', 'shreya', 'Amit']\n",
        "\n",
        "print(students)"
      ],
      "metadata": {
        "colab": {
          "base_uri": "https://localhost:8080/"
        },
        "id": "DuVsiHE_5vqk",
        "outputId": "c982b5ca-b6ee-442f-b305-266d123b962b"
      },
      "execution_count": 26,
      "outputs": [
        {
          "output_type": "stream",
          "name": "stdout",
          "text": [
            "['apple', 'grapes', 'papaya']\n",
            "['anaya', 'shreya', 'Amit']\n"
          ]
        }
      ]
    },
    {
      "cell_type": "code",
      "source": [
        "#While Loops: While loops are used to execute a block of code as long as a certain condition is true\n",
        "\n",
        "#Example\n",
        "\n",
        "a= 5\n",
        "\n",
        "while a > 0:\n",
        "  print(\"Countdown\", a)"
      ],
      "metadata": {
        "id": "Nw5h8_N08oGd"
      },
      "execution_count": null,
      "outputs": []
    }
  ]
}